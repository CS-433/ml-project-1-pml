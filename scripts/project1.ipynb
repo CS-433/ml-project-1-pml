{
 "cells": [
  {
   "cell_type": "code",
   "execution_count": 4,
   "metadata": {
    "tags": []
   },
   "outputs": [
    {
     "name": "stdout",
     "output_type": "stream",
     "text": [
      "The autoreload extension is already loaded. To reload it, use:\n",
      "  %reload_ext autoreload\n"
     ]
    }
   ],
   "source": [
    "# Useful starting lines\n",
    "%matplotlib inline\n",
    "import numpy as np\n",
    "import matplotlib.pyplot as plt\n",
    "%load_ext autoreload\n",
    "%autoreload 2\n",
    "import seaborn as sns"
   ]
  },
  {
   "cell_type": "markdown",
   "metadata": {},
   "source": [
    "## Load the training data into feature matrix, class labels, and event ids, and separate the dataset:"
   ]
  },
  {
   "cell_type": "code",
   "execution_count": 5,
   "metadata": {},
   "outputs": [],
   "source": [
    "from implementations import *"
   ]
  },
  {
   "cell_type": "code",
   "execution_count": 6,
   "metadata": {
    "collapsed": false,
    "jupyter": {
     "outputs_hidden": false
    }
   },
   "outputs": [],
   "source": [
    "from proj1_helpers import *\n",
    "DATA_TRAIN_PATH = '../data/train.csv' # TODO: download train data and supply path here \n",
    "y, tX, ids = load_csv_data(DATA_TRAIN_PATH)\n"
   ]
  },
  {
   "cell_type": "code",
   "execution_count": 7,
   "metadata": {},
   "outputs": [],
   "source": [
    "DATA_TEST_PATH = '../data/test.csv' # TODO: download train data and supply path here \n",
    "_, tX_test, ids_test = load_csv_data(DATA_TEST_PATH)"
   ]
  },
  {
   "cell_type": "code",
   "execution_count": 8,
   "metadata": {},
   "outputs": [],
   "source": [
    "logistic = True\n",
    "tX_list, ids_list, y_list = separate_dataset(tX, ids, y, logistic)\n",
    "tX_test_list, ids_test_list = separate_dataset(tX_test, ids_test) "
   ]
  },
  {
   "cell_type": "code",
   "execution_count": 9,
   "metadata": {},
   "outputs": [],
   "source": [
    "tX_list, tX_test_list, y_list = clean_data(tX_list, tX_test_list, y_list)"
   ]
  },
  {
   "cell_type": "markdown",
   "metadata": {},
   "source": [
    "## GRID SEARCH RIDGE REGRESSION"
   ]
  },
  {
   "cell_type": "code",
   "execution_count": 10,
   "metadata": {},
   "outputs": [
    {
     "name": "stdout",
     "output_type": "stream",
     "text": [
      "Dataset part 0:\n",
      "     Best degree: 2\n",
      "     Best lambda: 1e-06\n",
      "     Best gamma: 0.1778279410038923\n",
      "     Loss: 6166.25\n",
      "Dataset part 1:\n",
      "     Best degree: 3\n",
      "     Best lambda: 1e-06\n",
      "     Best gamma: 0.1778279410038923\n",
      "     Loss: 14748.5\n",
      "Dataset part 2:\n",
      "     Best degree: 2\n",
      "     Best lambda: 1e-06\n",
      "     Best gamma: 0.1778279410038923\n",
      "     Loss: 1719.75\n",
      "Dataset part 3:\n",
      "     Best degree: 3\n",
      "     Best lambda: 1e-06\n",
      "     Best gamma: 0.1778279410038923\n",
      "     Loss: 13402.25\n",
      "Dataset part 4:\n",
      "     Best degree: 2\n",
      "     Best lambda: 1e-06\n",
      "     Best gamma: 0.1778279410038923\n",
      "     Loss: 999.75\n",
      "Dataset part 5:\n",
      "     Best degree: 3\n",
      "     Best lambda: 3.1622776601683795e-05\n",
      "     Best gamma: 0.1778279410038923\n",
      "     Loss: 13613.5\n",
      "[2, 3, 2, 3, 2, 3]\n",
      "[1e-06, 1e-06, 1e-06, 1e-06, 1e-06, 3.1622776601683795e-05]\n",
      "[0.1778279410038923, 0.1778279410038923, 0.1778279410038923, 0.1778279410038923, 0.1778279410038923, 0.1778279410038923]\n"
     ]
    }
   ],
   "source": [
    "function = reg_logistic_regression\n",
    "\n",
    "degrees = range(1, 5)\n",
    "lambdas = np.logspace(-6, 0, 5)\n",
    "gammas = np.logspace(-3, 0, 5)\n",
    "\n",
    "degree_vec = []\n",
    "lambda_vec = []\n",
    "gamma_vec = []\n",
    "\n",
    "for i in range(6):\n",
    "    print('Dataset part {l}:'.format(l = i))\n",
    "    rmse_te, BestDeg, BestLambda, BestGamma = grid_search(y_list[i], tX_list[i], function, 4, degrees, lambdas, gammas, dataset = i)\n",
    "    degree_vec.append(BestDeg)\n",
    "    lambda_vec.append(BestLambda)\n",
    "    gamma_vec.append(BestGamma)\n",
    "    print('     Best degree: {d}'.format(d = BestDeg))\n",
    "    print('     Best lambda: {m}'.format(m = BestLambda))\n",
    "    print('     Best gamma: {m}'.format(m = BestGamma))\n",
    "    print('     Loss: {lo}'.format(lo = rmse_te))\n",
    "\n",
    "print(degree_vec)\n",
    "print(lambda_vec)\n",
    "print(gamma_vec)"
   ]
  },
  {
   "cell_type": "code",
   "execution_count": 11,
   "metadata": {},
   "outputs": [
    {
     "name": "stdout",
     "output_type": "stream",
     "text": [
      "0.15579393394156515\n",
      "0.4267048025313744\n",
      "0.2307474533335349\n",
      "0.5208113502970543\n",
      "0.2364715084205718\n",
      "0.4556061574518068\n"
     ]
    }
   ],
   "source": [
    "weights_list = []\n",
    "loss_list = []\n",
    "mat_tX_test_list = []\n",
    "max_iter= 3000\n",
    "\n",
    "for i in range(6):\n",
    "    mat_tX, mat_tX_test = build_poly_log(tX_list[i], degree_vec[i], tX_test_list[i], i)\n",
    "    initial_w = np.zeros((mat_tX.shape[1], 1))\n",
    "    #w, l = ridge_regression(y_list[i], mat_tX, lambda_vec[i])\n",
    "    w, l = reg_logistic_regression(y_list[i], mat_tX, initial_w, max_iter, lambda_vec[i], gamma_vec[i])\n",
    "    weights_list.append(w)\n",
    "    loss_list.append(l)\n",
    "    mat_tX_test_list.append(mat_tX_test)    \n",
    "    print(l)\n",
    " "
   ]
  },
  {
   "cell_type": "code",
   "execution_count": 12,
   "metadata": {},
   "outputs": [],
   "source": [
    "# Eval\n",
    "\n",
    "y_pred_list = separated_eval(weights_list, mat_tX_test_list, logistic) \n",
    "\n",
    "y_pred = np.concatenate((y_pred_list[0], y_pred_list[1], y_pred_list[2], y_pred_list[3], y_pred_list[4], y_pred_list[5]))\n",
    "ids_test_sub = np.concatenate((ids_test_list[0], ids_test_list[1], ids_test_list[2], ids_test_list[3], ids_test_list[4], ids_test_list[5]))\n",
    "\n",
    "OUTPUT_PATH = 'result.csv'\n",
    "create_csv_submission(ids_test_sub, y_pred, OUTPUT_PATH)"
   ]
  }
 ],
 "metadata": {
  "anaconda-cloud": {},
  "interpreter": {
   "hash": "af60c6d1ba22fcf692506d80c930cf10d4343429c429540daec4a37d3dd3684b"
  },
  "kernelspec": {
   "display_name": "Python 3.8.5 64-bit ('base': conda)",
   "name": "python3"
  },
  "language_info": {
   "codemirror_mode": {
    "name": "ipython",
    "version": 3
   },
   "file_extension": ".py",
   "mimetype": "text/x-python",
   "name": "python",
   "nbconvert_exporter": "python",
   "pygments_lexer": "ipython3",
   "version": "3.8.5"
  }
 },
 "nbformat": 4,
 "nbformat_minor": 4
}

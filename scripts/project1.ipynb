{
 "cells": [
  {
   "cell_type": "code",
   "execution_count": 74,
   "metadata": {
    "tags": []
   },
   "outputs": [
    {
     "name": "stdout",
     "output_type": "stream",
     "text": [
      "The autoreload extension is already loaded. To reload it, use:\n",
      "  %reload_ext autoreload\n"
     ]
    }
   ],
   "source": [
    "# Useful starting lines\n",
    "%matplotlib inline\n",
    "import numpy as np\n",
    "import matplotlib.pyplot as plt\n",
    "%load_ext autoreload\n",
    "%autoreload 2\n",
    "import seaborn as sns"
   ]
  },
  {
   "cell_type": "markdown",
   "metadata": {},
   "source": [
    "## Load the training data into feature matrix, class labels, and event ids, and separate the dataset:"
   ]
  },
  {
   "cell_type": "code",
   "execution_count": 75,
   "metadata": {},
   "outputs": [],
   "source": [
    "from implementations import *"
   ]
  },
  {
   "cell_type": "code",
   "execution_count": 76,
   "metadata": {
    "collapsed": false,
    "jupyter": {
     "outputs_hidden": false
    }
   },
   "outputs": [],
   "source": [
    "from proj1_helpers import *\n",
    "DATA_TRAIN_PATH = '../data/train.csv' # TODO: download train data and supply path here \n",
    "y, tX, ids = load_csv_data(DATA_TRAIN_PATH)\n"
   ]
  },
  {
   "cell_type": "code",
   "execution_count": 77,
   "metadata": {},
   "outputs": [],
   "source": [
    "DATA_TEST_PATH = '../data/test.csv' # TODO: download train data and supply path here \n",
    "_, tX_test, ids_test = load_csv_data(DATA_TEST_PATH)"
   ]
  },
  {
   "cell_type": "code",
   "execution_count": 89,
   "metadata": {},
   "outputs": [],
   "source": [
    "logistic = True\n",
    "tX_list, ids_list, y_list = separate_dataset(tX, ids, y, logistic)\n",
    "tX_test_list, ids_test_list = separate_dataset(tX_test, ids_test) "
   ]
  },
  {
   "cell_type": "code",
   "execution_count": 90,
   "metadata": {},
   "outputs": [],
   "source": [
    "tX_list, tX_test_list, y_list = clean_data(tX_list, tX_test_list, y_list)"
   ]
  },
  {
   "cell_type": "markdown",
   "metadata": {},
   "source": [
    "## GRID SEARCH RIDGE REGRESSION"
   ]
  },
  {
   "cell_type": "code",
   "execution_count": 100,
   "metadata": {},
   "outputs": [
    {
     "name": "stdout",
     "output_type": "stream",
     "text": [
      "Dataset part 0:\n"
     ]
    },
    {
     "name": "stderr",
     "output_type": "stream",
     "text": [
      "/Users/theopatron/Documents/EPFL/MA3/ML/ml-project-1-pml/scripts/implementations.py:10: RuntimeWarning: overflow encountered in square\n",
      "  loss = ((y - tx.dot(w))**2).sum()/(2*len(y))   #MSE\n",
      "/Users/theopatron/Documents/EPFL/MA3/ML/ml-project-1-pml/scripts/implementations.py:118: RuntimeWarning: invalid value encountered in subtract\n",
      "  loss = compute_loss(minibatch_y, minibatch_tx, w)\n",
      "/Users/theopatron/Documents/EPFL/MA3/ML/ml-project-1-pml/scripts/implementations.py:118: RuntimeWarning: overflow encountered in subtract\n",
      "  loss = compute_loss(minibatch_y, minibatch_tx, w)\n"
     ]
    },
    {
     "name": "stdout",
     "output_type": "stream",
     "text": [
      "     Best degree: 2\n",
      "     Best lambda: 1e-10\n",
      "     Best gamma: 0.0001\n",
      "     Loss: 6135.75\n",
      "Dataset part 1:\n",
      "     Best degree: 1\n",
      "     Best lambda: 1e-10\n",
      "     Best gamma: 0.01\n",
      "     Loss: 14058.5\n",
      "Dataset part 2:\n",
      "     Best degree: 2\n",
      "     Best lambda: 1e-10\n",
      "     Best gamma: 0.0001\n",
      "     Loss: 1706.25\n",
      "Dataset part 3:\n",
      "     Best degree: 2\n",
      "     Best lambda: 1e-10\n",
      "     Best gamma: 0.001\n",
      "     Loss: 11720.0\n",
      "Dataset part 4:\n",
      "     Best degree: 1\n",
      "     Best lambda: 1e-10\n",
      "     Best gamma: 0.01\n",
      "     Loss: 983.0\n",
      "Dataset part 5:\n",
      "     Best degree: 1\n",
      "     Best lambda: 1e-10\n",
      "     Best gamma: 0.01\n",
      "     Loss: 10935.5\n",
      "[2, 1, 2, 2, 1, 1]\n",
      "[1e-10, 1e-10, 1e-10, 1e-10, 1e-10, 1e-10]\n",
      "[0.0001, 0.01, 0.0001, 0.001, 0.01, 0.01]\n"
     ]
    }
   ],
   "source": [
    "# FUNCTION\n",
    "# 1 = least squares GD\n",
    "# 2 = least squares SGD\n",
    "# 3 = least squares\n",
    "# 4 = ridge regression\n",
    "# 5 = logistic regression\n",
    "# 6 = reg logistic regression\n",
    "\n",
    "function = 2\n",
    "\n",
    "degrees = range(1,5)\n",
    "lambdas = np.logspace(-10, 0, 1)\n",
    "gammas = np.logspace(-4, 0, 5)\n",
    "\n",
    "degree_vec = []\n",
    "lambda_vec = []\n",
    "gamma_vec = []\n",
    "\n",
    "for i in range(6):\n",
    "    print('Dataset part {l}:'.format(l = i))\n",
    "    rmse_te, BestDeg, BestLambda, BestGamma = grid_search(y_list[i], tX_list[i], function, 4, degrees, lambdas, gammas, dataset = i)\n",
    "    degree_vec.append(BestDeg)\n",
    "    lambda_vec.append(BestLambda)\n",
    "    gamma_vec.append(BestGamma)\n",
    "    print('     Best degree: {d}'.format(d = BestDeg))\n",
    "    print('     Best lambda: {m}'.format(m = BestLambda))\n",
    "    print('     Best gamma: {m}'.format(m = BestGamma))\n",
    "    print('     Loss: {lo}'.format(lo = rmse_te))\n",
    "\n",
    "print(degree_vec)\n",
    "print(lambda_vec)\n",
    "print(gamma_vec)"
   ]
  },
  {
   "cell_type": "code",
   "execution_count": 101,
   "metadata": {},
   "outputs": [
    {
     "name": "stdout",
     "output_type": "stream",
     "text": [
      "0.00039932182139141626\n",
      "0.007608354124261991\n",
      "0.0004901585520810024\n",
      "0.17520412049941597\n",
      "0.021076381777616133\n",
      "0.16988238061086322\n"
     ]
    }
   ],
   "source": [
    "weights_list = []\n",
    "loss_list = []\n",
    "mat_tX_test_list = []\n",
    "max_iters = 300\n",
    "\n",
    "for i in range(6):\n",
    "    mat_tX, mat_tX_test = build_poly_log(tX_list[i], degree_vec[i], tX_test_list[i], i)\n",
    "    # initial_w = np.zeros((mat_tX.shape[1],1))\n",
    "    #w, l = ridge_regression(y_list[i], mat_tX, lambda_vec[i])\n",
    "    #w, l = least_squares(y_list[i], mat_tX)\n",
    "    initial_w = np.zeros(mat_tX.shape[1])\n",
    "    w, l = least_squares_GD(y_list[i], mat_tX, initial_w, max_iters, gamma_vec[i])\n",
    "max_iter= 3000\n",
    "\n",
    "for i in range(6):\n",
    "    mat_tX, mat_tX_test = build_poly_log(tX_list[i], degree_vec[i], tX_test_list[i], i)\n",
    "    initial_w = np.zeros((mat_tX.shape[1], 1))\n",
    "    #w, l = ridge_regression(y_list[i], mat_tX, lambda_vec[i])\n",
    "    w, l = reg_logistic_regression(y_list[i], mat_tX, initial_w, max_iter, lambda_vec[i], gamma_vec[i])\n",
    "    weights_list.append(w)\n",
    "    loss_list.append(l)\n",
    "    mat_tX_test_list.append(mat_tX_test)    \n",
    "    print(l)\n",
    " "
   ]
  },
  {
   "cell_type": "code",
   "execution_count": 102,
   "metadata": {},
   "outputs": [],
   "source": [
    "# Eval\n",
    "\n",
    "y_pred_list = separated_eval(weights_list, mat_tX_test_list, logistic) \n",
    "\n",
    "y_pred = np.concatenate((y_pred_list[0], y_pred_list[1], y_pred_list[2], y_pred_list[3], y_pred_list[4], y_pred_list[5]))\n",
    "ids_test_sub = np.concatenate((ids_test_list[0], ids_test_list[1], ids_test_list[2], ids_test_list[3], ids_test_list[4], ids_test_list[5]))\n",
    "\n",
    "OUTPUT_PATH = 'result.csv'\n",
    "create_csv_submission(ids_test_sub, y_pred, OUTPUT_PATH)"
   ]
  }
 ],
 "metadata": {
  "anaconda-cloud": {},
  "interpreter": {
   "hash": "af60c6d1ba22fcf692506d80c930cf10d4343429c429540daec4a37d3dd3684b"
  },
  "kernelspec": {
   "display_name": "Python 3.8.5 64-bit ('base': conda)",
   "name": "python3"
  },
  "language_info": {
   "codemirror_mode": {
    "name": "ipython",
    "version": 3
   },
   "file_extension": ".py",
   "mimetype": "text/x-python",
   "name": "python",
   "nbconvert_exporter": "python",
   "pygments_lexer": "ipython3",
   "version": "3.8.5"
  }
 },
 "nbformat": 4,
 "nbformat_minor": 4
}

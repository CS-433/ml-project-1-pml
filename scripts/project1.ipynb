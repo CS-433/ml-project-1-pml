{
 "cells": [
  {
   "cell_type": "code",
   "execution_count": 1,
   "metadata": {
    "tags": []
   },
   "outputs": [],
   "source": [
    "# Useful starting lines\n",
    "%matplotlib inline\n",
    "import numpy as np\n",
    "import matplotlib.pyplot as plt\n",
    "%load_ext autoreload\n",
    "%autoreload 2\n",
    "import seaborn as sns\n",
    "\n",
    "np.random.seed(2)"
   ]
  },
  {
   "cell_type": "markdown",
   "metadata": {},
   "source": [
    "## Load the training data into feature matrix, class labels, and event ids, and separate the dataset:"
   ]
  },
  {
   "cell_type": "code",
   "execution_count": 2,
   "metadata": {},
   "outputs": [],
   "source": [
    "from implementations import *"
   ]
  },
  {
   "cell_type": "code",
   "execution_count": 4,
   "metadata": {
    "collapsed": false,
    "jupyter": {
     "outputs_hidden": false
    }
   },
   "outputs": [],
   "source": [
    "DATA_TRAIN_PATH = '../data/train.csv' \n",
    "y, tX, ids = load_csv_data(DATA_TRAIN_PATH)"
   ]
  },
  {
   "cell_type": "code",
   "execution_count": 5,
   "metadata": {},
   "outputs": [],
   "source": [
    "DATA_TEST_PATH = '../data/test.csv'  \n",
    "_, tX_test, ids_test = load_csv_data(DATA_TEST_PATH)"
   ]
  },
  {
   "cell_type": "code",
   "execution_count": 6,
   "metadata": {},
   "outputs": [],
   "source": [
    "tX_list, ids_list, y_list = separate_dataset(tX, ids, y)\n",
    "tX_test_list, ids_test_list = separate_dataset(tX_test, ids_test) "
   ]
  },
  {
   "cell_type": "code",
   "execution_count": 7,
   "metadata": {},
   "outputs": [],
   "source": [
    "tX_list, tX_test_list, y_list = clean_data(tX_list, tX_test_list, y_list)"
   ]
  },
  {
   "cell_type": "markdown",
   "metadata": {},
   "source": [
    "## GRID SEARCH"
   ]
  },
  {
   "cell_type": "code",
   "execution_count": 8,
   "metadata": {},
   "outputs": [
    {
     "name": "stdout",
     "output_type": "stream",
     "text": [
      "Dataset part 0:\n",
      "     Best degree: 2\n",
      "     Best lambda: 1e-10\n",
      "     Best gamma: 0.1\n",
      "     Loss: 6141.75\n",
      "Dataset part 1:\n",
      "     Best degree: 3\n",
      "     Best lambda: 1e-10\n",
      "     Best gamma: 0.1\n",
      "     Loss: 14702.75\n",
      "Dataset part 2:\n",
      "     Best degree: 2\n",
      "     Best lambda: 1e-10\n",
      "     Best gamma: 0.1\n",
      "     Loss: 1709.75\n",
      "Dataset part 3:\n",
      "     Best degree: 3\n",
      "     Best lambda: 1e-10\n",
      "     Best gamma: 0.1\n",
      "     Loss: 13373.0\n",
      "Dataset part 4:\n",
      "     Best degree: 3\n",
      "     Best lambda: 1e-10\n",
      "     Best gamma: 0.01\n",
      "     Loss: 991.25\n",
      "Dataset part 5:\n",
      "     Best degree: 3\n",
      "     Best lambda: 1e-10\n",
      "     Best gamma: 0.1\n",
      "     Loss: 13462.75\n",
      "[2, 3, 2, 3, 3, 3]\n",
      "[1e-10, 1e-10, 1e-10, 1e-10, 1e-10, 1e-10]\n",
      "[0.1, 0.1, 0.1, 0.1, 0.01, 0.1]\n"
     ]
    }
   ],
   "source": [
    "# FUNCTION\n",
    "# 1 = least squares GD\n",
    "# 2 = least squares SGD\n",
    "# 3 = least squares\n",
    "# 4 = ridge regression\n",
    "# 5 = logistic regression\n",
    "# 6 = reg logistic regression\n",
    "\n",
    "function = 3\n",
    "\n",
    "degrees = range(1,10)\n",
    "lambdas = np.logspace(-10, 0, 1)\n",
    "gammas = np.logspace(-4, 0, 1)\n",
    "\n",
    "degree_vec = []\n",
    "lambda_vec = []\n",
    "gamma_vec = []\n",
    "\n",
    "for i in range(6):\n",
    "    print('Dataset part {l}:'.format(l = i))\n",
    "    rmse_te, BestDeg, BestLambda, BestGamma = grid_search(y_list[i], tX_list[i], function, 4, degrees, lambdas, gammas, dataset = i)\n",
    "    degree_vec.append(BestDeg)\n",
    "    lambda_vec.append(BestLambda)\n",
    "    gamma_vec.append(BestGamma)\n",
    "    print('     Best degree: {d}'.format(d = BestDeg))\n",
    "    print('     Best lambda: {m}'.format(m = BestLambda))\n",
    "    print('     Best gamma: {m}'.format(m = BestGamma))\n",
    "    print('     Loss: {lo}'.format(lo = rmse_te))\n",
    "\n",
    "print(\"Best degree vector:\")\n",
    "print(degree_vec)\n",
    "print(\"Best lambda vector:\")\n",
    "print(lambda_vec)\n",
    "print(\"Best gamma vector:\")\n",
    "print(gamma_vec)"
   ]
  },
  {
   "cell_type": "markdown",
   "metadata": {},
   "source": [
    "## TRAINING"
   ]
  },
  {
   "cell_type": "code",
   "execution_count": 11,
   "metadata": {},
   "outputs": [],
   "source": [
    "weights_list = []\n",
    "loss_list = []\n",
    "mat_tX_test_list = []\n",
    "\n",
    "for i in range(6):\n",
    "\n",
    "    if (function == 1):\n",
    "        max_iters = 300\n",
    "        mat_tX, mat_tX_test = build_poly_log(tX_list[i], degree_vec[i], tX_test_list[i], i)\n",
    "        initial_w = np.zeros(mat_tX.shape[1])\n",
    "\n",
    "        w, l = least_squares_GD(y_list[i], mat_tX, initial_w, max_iters, gamma_vec[i])\n",
    "\n",
    "    elif (function == 2):\n",
    "        max_iters = 1000\n",
    "        mat_tX, mat_tX_test = build_poly_log(tX_list[i], degree_vec[i], tX_test_list[i], i)\n",
    "        initial_w = np.zeros(mat_tX.shape[1])\n",
    "        \n",
    "        w, l = least_squares_SGD(y_list[i], mat_tX, initial_w, max_iters, gamma_vec[i])\n",
    "\n",
    "    elif (function == 3):\n",
    "        mat_tX, mat_tX_test = build_poly_log(tX_list[i], degree_vec[i], tX_test_list[i], i)\n",
    "        w, l = least_squares(y_list[i], mat_tX)\n",
    "\n",
    "    elif (function == 4):\n",
    "        mat_tX, mat_tX_test = build_poly_log(tX_list[i], degree_vec[i], tX_test_list[i], i)\n",
    "        w, l = ridge_regression(y_list[i], mat_tX, lambda_vec[i])\n",
    "    \n",
    "    elif (function == 5):\n",
    "        max_iters = 7000\n",
    "        mat_tX, mat_tX_test = build_poly_log(tX_list[i], degree_vec[i], tX_test_list[i], i)\n",
    "        initial_w = np.zeros((mat_tX.shape[1],1))\n",
    "\n",
    "        w, l = logistic_regression(y_list[i], mat_tX, initial_w, max_iters, gamma_vec[i])\n",
    "\n",
    "    elif (function == 6):\n",
    "        max_iters = 7000\n",
    "        mat_tX, mat_tX_test = build_poly_log(tX_list[i], degree_vec[i], tX_test_list[i], i)\n",
    "        initial_w = np.zeros((mat_tX.shape[1],1))\n",
    "\n",
    "        w, l = reg_logistic_regression(y_list[i], mat_tX, initial_w, max_iters, lambda_vec[i], gamma_vec[i])\n",
    "\n",
    "    else:\n",
    "        print('error function name')\n",
    "\n",
    "    weights_list.append(w)\n",
    "    loss_list.append(l)\n",
    "    mat_tX_test_list.append(mat_tX_test)    \n",
    "\n",
    "\n",
    " "
   ]
  },
  {
   "cell_type": "markdown",
   "metadata": {},
   "source": [
    "## INFERENCE"
   ]
  },
  {
   "cell_type": "code",
   "execution_count": null,
   "metadata": {},
   "outputs": [],
   "source": [
    "# Eval\n",
    "\n",
    "y_pred_list = separated_eval(weights_list, mat_tX_test_list) \n",
    "\n",
    "y_pred = np.concatenate((y_pred_list[0], y_pred_list[1], y_pred_list[2], y_pred_list[3], y_pred_list[4], y_pred_list[5]))\n",
    "ids_test_sub = np.concatenate((ids_test_list[0], ids_test_list[1], ids_test_list[2], ids_test_list[3], ids_test_list[4], ids_test_list[5]))\n",
    "\n",
    "OUTPUT_PATH = 'result.csv'\n",
    "create_csv_submission(ids_test_sub, y_pred, OUTPUT_PATH)"
   ]
  }
 ],
 "metadata": {
  "anaconda-cloud": {},
  "interpreter": {
   "hash": "c6e4e9f98eb68ad3b7c296f83d20e6de614cb42e90992a65aa266555a3137d0d"
  },
  "kernelspec": {
   "display_name": "Python 3.9.7 64-bit ('base': conda)",
   "name": "python3"
  },
  "language_info": {
   "codemirror_mode": {
    "name": "ipython",
    "version": 3
   },
   "file_extension": ".py",
   "mimetype": "text/x-python",
   "name": "python",
   "nbconvert_exporter": "python",
   "pygments_lexer": "ipython3",
   "version": "3.9.7"
  }
 },
 "nbformat": 4,
 "nbformat_minor": 4
}

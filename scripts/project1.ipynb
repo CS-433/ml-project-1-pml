{
 "cells": [
  {
   "cell_type": "code",
   "execution_count": 3,
   "metadata": {
    "tags": []
   },
   "outputs": [],
   "source": [
    "# Useful starting lines\n",
    "%matplotlib inline\n",
    "import numpy as np\n",
    "import matplotlib.pyplot as plt\n",
    "%load_ext autoreload\n",
    "%autoreload 2"
   ]
  },
  {
   "cell_type": "markdown",
   "metadata": {},
   "source": [
    "## Load the training data into feature matrix, class labels, and event ids:"
   ]
  },
  {
   "cell_type": "code",
   "execution_count": 4,
   "metadata": {
    "collapsed": false,
    "jupyter": {
     "outputs_hidden": false
    }
   },
   "outputs": [],
   "source": [
    "from proj1_helpers import *\n",
    "DATA_TRAIN_PATH = '../data/train.csv' # TODO: download train data and supply path here \n",
    "y, tX, ids = load_csv_data(DATA_TRAIN_PATH)"
   ]
  },
  {
   "cell_type": "markdown",
   "metadata": {},
   "source": [
    "## Do your thing crazy machine learning thing here :) ..."
   ]
  },
  {
   "cell_type": "code",
   "execution_count": 5,
   "metadata": {},
   "outputs": [],
   "source": [
    "from functions import *"
   ]
  },
  {
   "cell_type": "code",
   "execution_count": 22,
   "metadata": {},
   "outputs": [],
   "source": [
    "initial_w = np.zeros(tX.shape[1])\n",
    "max_iters = 50\n",
    "gamma = 3e-7"
   ]
  },
  {
   "cell_type": "code",
   "execution_count": 23,
   "metadata": {},
   "outputs": [
    {
     "name": "stdout",
     "output_type": "stream",
     "text": [
      "Gradient Descent(0/49): loss=0.5, w0=3.22999485312e-05, w1=-8.185259581200002e-06\n",
      "Gradient Descent(1/49): loss=0.46849750202717927, w0=4.737735523736878e-05, w1=-8.288091556578184e-06\n",
      "Gradient Descent(2/49): loss=0.4513712748460005, w0=7.283027314074192e-05, w1=-1.4153561994065593e-05\n",
      "Gradient Descent(3/49): loss=0.44178360296424807, w0=8.891083213320661e-05, w1=-1.5810090997021515e-05\n",
      "Gradient Descent(4/49): loss=0.43617479340076165, w0=0.00010996659128578842, w1=-2.0443255627319816e-05\n",
      "Gradient Descent(5/49): loss=0.4326884948512339, w0=0.0001257725187546786, w1=-2.287872071660321e-05\n",
      "Gradient Descent(6/49): loss=0.4303539841023342, w0=0.0001437960135669708, w1=-2.6846011158228963e-05\n",
      "Gradient Descent(7/49): loss=0.4286614226647361, w0=0.0001587507183638464, w1=-2.966032971941446e-05\n",
      "Gradient Descent(8/49): loss=0.4273411475179239, w0=0.00017453053731563133, w1=-3.325760857123354e-05\n",
      "Gradient Descent(9/49): loss=0.4262489193466734, w0=0.00018840941370472435, w1=-3.6244983745871636e-05\n",
      "Gradient Descent(10/49): loss=0.4253062112549615, w0=0.00020242433054509364, w1=-3.962754801819638e-05\n",
      "Gradient Descent(11/49): loss=0.424469100097384, w0=0.00021517572927472523, w1=-4.268286455550898e-05\n",
      "Gradient Descent(12/49): loss=0.42371203005243574, w0=0.00022773492584815265, w1=-4.5932924213626074e-05\n",
      "Gradient Descent(13/49): loss=0.42301931548757576, w0=0.00023938893618310138, w1=-4.90031831330664e-05\n",
      "Gradient Descent(14/49): loss=0.4223806759656577, w0=0.00025070626197904936, w1=-5.2164890817577436e-05\n",
      "Gradient Descent(15/49): loss=0.42178887555037825, w0=0.0002613286887962904, w1=-5.522401654907177e-05\n",
      "Gradient Descent(16/49): loss=0.4212384630175911, w0=0.0002715623639408066, w1=-5.832165680570173e-05\n",
      "Gradient Descent(17/49): loss=0.42072509010349285, w0=0.0002812318787511721, w1=-6.135743289792247e-05\n",
      "Gradient Descent(18/49): loss=0.4202451348565581, w0=0.0002905060204728877, w1=-6.440487107406161e-05\n",
      "Gradient Descent(19/49): loss=0.4197954872779463, w0=0.00029930312784862465, w1=-6.741216938385445e-05\n",
      "Gradient Descent(20/49): loss=0.4193734222616614, w0=0.00030771966065394304, w1=-7.041776390464215e-05\n",
      "Gradient Descent(21/49): loss=0.41897652026518495, w0=0.000315721636621092, w1=-7.339503914317203e-05\n",
      "Gradient Descent(22/49): loss=0.41860261468418974, w0=0.00032336707254218967, w1=-7.636419877892185e-05\n",
      "Gradient Descent(23/49): loss=0.41824975464684355, w0=0.00033064588018641655, w1=-7.931167698986285e-05\n",
      "Gradient Descent(24/49): loss=0.4179161770866756, w0=0.0003375953298260769, w1=-8.224819533455058e-05\n",
      "Gradient Descent(25/49): loss=0.4176002846872414, w0=0.000344216985920565, w1=-8.516694084636244e-05\n",
      "Gradient Descent(26/49): loss=0.4173006277592129, w0=0.0003505366495202689, w1=-8.807369563162488e-05\n",
      "Gradient Descent(27/49): loss=0.41701588890826147, w0=0.0003565612709453606, w1=-9.096513333985937e-05\n",
      "Gradient Descent(28/49): loss=0.41674486979337083, w0=0.0003623100757512693, w1=-9.384445558291034e-05\n",
      "Gradient Descent(29/49): loss=0.41648647952491813, w0=0.0003677922210238986, w1=-9.671012901094133e-05\n",
      "Gradient Descent(30/49): loss=0.4162397243972803, w0=0.00037302296420328854, w1=-9.95640003202984e-05\n",
      "Gradient Descent(31/49): loss=0.4160036987384184, w0=0.0003780120821868698, w1=-0.00010240545156038204\n",
      "Gradient Descent(32/49): loss=0.41577757671395427, w0=0.00038277227591348604, w1=-0.00010523561180222836\n",
      "Gradient Descent(33/49): loss=0.41556060495935837, w0=0.0003873131730523619, w1=-0.0001080543242659575\n",
      "Gradient Descent(34/49): loss=0.4153520959386416, w0=0.00039164570154537467, w1=-0.0001108623322873966\n",
      "Gradient Descent(35/49): loss=0.41515142194565746, w0=0.00039577898839557936, w1=-0.00011365970564501203\n",
      "Gradient Descent(36/49): loss=0.4149580096773226, w0=0.00039972263983438717, w1=-0.00011644697524548749\n",
      "Gradient Descent(37/49): loss=0.41477133531821525, w0=0.0004034851417640421, w1=-0.00011922431669554506\n",
      "Gradient Descent(38/49): loss=0.4145909200840676, w0=0.0004070750523455818, w1=-0.00012199213939390803\n",
      "Gradient Descent(39/49): loss=0.414416326178203, w0=0.00041050018063286186, w1=-0.00012475066306326363\n",
      "Gradient Descent(40/49): loss=0.41424715312039023, w0=0.0004137682137271149, w1=-0.00012750022368189653\n",
      "Gradient Descent(41/49): loss=0.4140830344121428, w0=0.0004168862983134967, w1=-0.00013024105392811088\n",
      "Gradient Descent(42/49): loss=0.4139236345063903, w0=0.0004198613734979855, w1=-0.00013297344214548094\n",
      "Gradient Descent(43/49): loss=0.4137686460528131, w0=0.00042269996061505084, w1=-0.00013569761859298104\n",
      "Gradient Descent(44/49): loss=0.4136177873930537, w0=0.0004254083425613874, w1=-0.00013841383812449121\n",
      "Gradient Descent(45/49): loss=0.4134708002826022, w0=0.00042799246097408814, w1=-0.00014112232133248797\n",
      "Gradient Descent(46/49): loss=0.4133274478184245, w0=0.00043045801523406785, w1=-0.00014382329762353428\n",
      "Gradient Descent(47/49): loss=0.4131875125534187, w0=0.00043281041473863666, w1=-0.00014651697483539602\n",
      "Gradient Descent(48/49): loss=0.41305079478059653, w0=0.0004350548356282443, w1=-0.0001492035617460631\n",
      "Gradient Descent(49/49): loss=0.41291711097149886, w0=0.00043719620109746013, w1=-0.0001518832524544363\n"
     ]
    }
   ],
   "source": [
    "res = least_squares_GD(y, tX, initial_w, max_iters, gamma)"
   ]
  },
  {
   "cell_type": "markdown",
   "metadata": {},
   "source": [
    "## Generate predictions and save ouput in csv format for submission:"
   ]
  },
  {
   "cell_type": "code",
   "execution_count": 10,
   "metadata": {
    "collapsed": false,
    "jupyter": {
     "outputs_hidden": false
    }
   },
   "outputs": [],
   "source": [
    "DATA_TEST_PATH = '../data/test.csv' # TODO: download train data and supply path here \n",
    "_, tX_test, ids_test = load_csv_data(DATA_TEST_PATH)"
   ]
  },
  {
   "cell_type": "code",
   "execution_count": 31,
   "metadata": {
    "collapsed": false,
    "jupyter": {
     "outputs_hidden": false
    }
   },
   "outputs": [],
   "source": [
    "OUTPUT_PATH = '' # TODO: fill in desired name of output file for submission\n",
    "y_pred = predict_labels(weights, tX_test)\n",
    "create_csv_submission(ids_test, y_pred, OUTPUT_PATH)"
   ]
  },
  {
   "cell_type": "code",
   "execution_count": null,
   "metadata": {
    "collapsed": true,
    "jupyter": {
     "outputs_hidden": true
    }
   },
   "outputs": [],
   "source": []
  }
 ],
 "metadata": {
  "anaconda-cloud": {},
  "kernelspec": {
   "display_name": "Python",
   "language": "python",
   "name": "python3"
  },
  "language_info": {
   "codemirror_mode": {
    "name": "ipython",
    "version": 3
   },
   "file_extension": ".py",
   "mimetype": "text/x-python",
   "name": "python",
   "nbconvert_exporter": "python",
   "pygments_lexer": "ipython3",
   "version": "3.8.10"
  }
 },
 "nbformat": 4,
 "nbformat_minor": 4
}

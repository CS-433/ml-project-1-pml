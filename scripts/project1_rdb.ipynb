{
 "cells": [
  {
   "cell_type": "code",
   "execution_count": 2,
   "metadata": {
    "tags": []
   },
   "outputs": [],
   "source": [
    "# Useful starting lines\n",
    "%matplotlib inline\n",
    "import numpy as np\n",
    "import matplotlib.pyplot as plt\n",
    "%load_ext autoreload\n",
    "%autoreload 2"
   ]
  },
  {
   "cell_type": "markdown",
   "metadata": {},
   "source": [
    "## Load the training data into feature matrix, class labels, and event ids:"
   ]
  },
  {
   "cell_type": "code",
   "execution_count": 3,
   "metadata": {
    "collapsed": false,
    "jupyter": {
     "outputs_hidden": false
    }
   },
   "outputs": [],
   "source": [
    "from proj1_helpers import *\n",
    "from implementations import *\n",
    "DATA_TRAIN_PATH = '../data/train.csv' # TODO: download train data and supply path here \n",
    "y, tX, ids = load_csv_data(DATA_TRAIN_PATH)"
   ]
  },
  {
   "cell_type": "markdown",
   "metadata": {},
   "source": [
    "## Do your thing crazy machine learning thing here :) ..."
   ]
  },
  {
   "cell_type": "code",
   "execution_count": 4,
   "metadata": {},
   "outputs": [
    {
     "name": "stdout",
     "output_type": "stream",
     "text": [
      "Gradient Descent(0/49): loss=0.5\n",
      "Gradient Descent(1/49): loss=0.4684975020271792\n",
      "Gradient Descent(2/49): loss=0.4513712748460005\n",
      "Gradient Descent(3/49): loss=0.44178360296424807\n",
      "Gradient Descent(4/49): loss=0.43617479340076165\n",
      "Gradient Descent(5/49): loss=0.4326884948512339\n",
      "Gradient Descent(6/49): loss=0.4303539841023341\n",
      "Gradient Descent(7/49): loss=0.4286614226647361\n",
      "Gradient Descent(8/49): loss=0.4273411475179239\n",
      "Gradient Descent(9/49): loss=0.4262489193466734\n",
      "Gradient Descent(10/49): loss=0.4253062112549615\n",
      "Gradient Descent(11/49): loss=0.4244691000973839\n",
      "Gradient Descent(12/49): loss=0.42371203005243574\n",
      "Gradient Descent(13/49): loss=0.42301931548757576\n",
      "Gradient Descent(14/49): loss=0.4223806759656577\n",
      "Gradient Descent(15/49): loss=0.42178887555037825\n",
      "Gradient Descent(16/49): loss=0.42123846301759116\n",
      "Gradient Descent(17/49): loss=0.42072509010349285\n",
      "Gradient Descent(18/49): loss=0.4202451348565581\n",
      "Gradient Descent(19/49): loss=0.4197954872779463\n",
      "Gradient Descent(20/49): loss=0.4193734222616614\n",
      "Gradient Descent(21/49): loss=0.41897652026518495\n",
      "Gradient Descent(22/49): loss=0.41860261468418974\n",
      "Gradient Descent(23/49): loss=0.41824975464684355\n",
      "Gradient Descent(24/49): loss=0.4179161770866755\n",
      "Gradient Descent(25/49): loss=0.4176002846872414\n",
      "Gradient Descent(26/49): loss=0.4173006277592129\n",
      "Gradient Descent(27/49): loss=0.41701588890826147\n",
      "Gradient Descent(28/49): loss=0.41674486979337083\n",
      "Gradient Descent(29/49): loss=0.41648647952491813\n",
      "Gradient Descent(30/49): loss=0.4162397243972803\n",
      "Gradient Descent(31/49): loss=0.4160036987384184\n",
      "Gradient Descent(32/49): loss=0.41577757671395427\n",
      "Gradient Descent(33/49): loss=0.41556060495935837\n",
      "Gradient Descent(34/49): loss=0.4153520959386416\n",
      "Gradient Descent(35/49): loss=0.41515142194565746\n",
      "Gradient Descent(36/49): loss=0.4149580096773226\n",
      "Gradient Descent(37/49): loss=0.41477133531821525\n",
      "Gradient Descent(38/49): loss=0.4145909200840676\n",
      "Gradient Descent(39/49): loss=0.414416326178203\n",
      "Gradient Descent(40/49): loss=0.41424715312039023\n",
      "Gradient Descent(41/49): loss=0.4140830344121428\n",
      "Gradient Descent(42/49): loss=0.4139236345063903\n",
      "Gradient Descent(43/49): loss=0.4137686460528131\n",
      "Gradient Descent(44/49): loss=0.4136177873930536\n",
      "Gradient Descent(45/49): loss=0.4134708002826022\n",
      "Gradient Descent(46/49): loss=0.4133274478184245\n",
      "Gradient Descent(47/49): loss=0.4131875125534187\n",
      "Gradient Descent(48/49): loss=0.41305079478059653\n",
      "Gradient Descent(49/49): loss=0.41291711097149886\n"
     ]
    }
   ],
   "source": [
    "# Linear regression using gradient descent\n",
    "\n",
    "initial_w = np.zeros(tX.shape[1])\n",
    "max_iters = 50\n",
    "gamma = 3e-7\n",
    "\n",
    "weights, loss = least_squares_GD(y, tX, initial_w, max_iters, gamma)"
   ]
  },
  {
   "cell_type": "code",
   "execution_count": null,
   "metadata": {},
   "outputs": [],
   "source": [
    "# Least squares regression using normal equation\n",
    "weight, loss = least_squares(y, tX)\n",
    "loss"
   ]
  },
  {
   "cell_type": "code",
   "execution_count": null,
   "metadata": {},
   "outputs": [],
   "source": [
    "# Ridge regression using normal equations\n",
    "lambda_ = 1e-3\n",
    "weight, loss = ridge_regression(y, tX, lambda_)\n",
    "loss"
   ]
  },
  {
   "cell_type": "markdown",
   "metadata": {},
   "source": [
    "## Generate predictions and save ouput in csv format for submission:"
   ]
  },
  {
   "cell_type": "code",
   "execution_count": 6,
   "metadata": {
    "collapsed": false,
    "jupyter": {
     "outputs_hidden": false
    }
   },
   "outputs": [],
   "source": [
    "DATA_TEST_PATH = '../data/test.csv' # TODO: download train data and supply path here \n",
    "_, tX_test, ids_test = load_csv_data(DATA_TEST_PATH)"
   ]
  },
  {
   "cell_type": "code",
   "execution_count": 10,
   "metadata": {
    "collapsed": false,
    "jupyter": {
     "outputs_hidden": false
    }
   },
   "outputs": [],
   "source": [
    "OUTPUT_PATH = 'result.csv' # TODO: fill in desired name of output file for submission\n",
    "y_pred = predict_labels(weights, tX_test)\n",
    "create_csv_submission(ids_test, y_pred, OUTPUT_PATH)"
   ]
  }
 ],
 "metadata": {
  "anaconda-cloud": {},
  "interpreter": {
   "hash": "af60c6d1ba22fcf692506d80c930cf10d4343429c429540daec4a37d3dd3684b"
  },
  "kernelspec": {
   "display_name": "Python 3.8.5 64-bit ('base': conda)",
   "name": "python3"
  },
  "language_info": {
   "codemirror_mode": {
    "name": "ipython",
    "version": 3
   },
   "file_extension": ".py",
   "mimetype": "text/x-python",
   "name": "python",
   "nbconvert_exporter": "python",
   "pygments_lexer": "ipython3",
   "version": "3.8.5"
  }
 },
 "nbformat": 4,
 "nbformat_minor": 4
}

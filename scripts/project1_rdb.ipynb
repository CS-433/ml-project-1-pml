{
 "cells": [
  {
   "cell_type": "code",
   "execution_count": 100,
   "metadata": {
    "tags": []
   },
   "outputs": [
    {
     "name": "stdout",
     "output_type": "stream",
     "text": [
      "The autoreload extension is already loaded. To reload it, use:\n",
      "  %reload_ext autoreload\n"
     ]
    }
   ],
   "source": [
    "# Useful starting lines\n",
    "%matplotlib inline\n",
    "import numpy as np\n",
    "import matplotlib.pyplot as plt\n",
    "%load_ext autoreload\n",
    "%autoreload 2"
   ]
  },
  {
   "cell_type": "markdown",
   "metadata": {},
   "source": [
    "## Load the training data into feature matrix, class labels, and event ids:"
   ]
  },
  {
   "cell_type": "code",
   "execution_count": 101,
   "metadata": {
    "collapsed": false,
    "jupyter": {
     "outputs_hidden": false
    }
   },
   "outputs": [],
   "source": [
    "from proj1_helpers import *\n",
    "from implementations import *\n",
    "DATA_TRAIN_PATH = '../data/train.csv' # TODO: download train data and supply path here \n",
    "y, tX, ids = load_csv_data(DATA_TRAIN_PATH)"
   ]
  },
  {
   "cell_type": "markdown",
   "metadata": {},
   "source": [
    "## Do your thing crazy machine learning thing here :) ..."
   ]
  },
  {
   "cell_type": "code",
   "execution_count": null,
   "metadata": {},
   "outputs": [],
   "source": [
    "#Check data\n",
    "\n",
    "corrMat=np.corrcoef(tX)\n"
   ]
  },
  {
   "cell_type": "code",
   "execution_count": 102,
   "metadata": {},
   "outputs": [
    {
     "name": "stdout",
     "output_type": "stream",
     "text": [
      "1\n",
      "0.00018873918221350977\n"
     ]
    }
   ],
   "source": [
    "# Ridge regression with K-fold\n",
    "k_fold= 4\n",
    "degrees = range(1, 3)\n",
    "lambdas = np.logspace(-4, 0, 30)\n",
    "seed = 1\n",
    "#ratio_train = 0.7\n",
    "\n",
    "rmse_te = 0\n",
    "BestDeg=0\n",
    "BestLambda=0\n",
    "#x_tr, x_te, y_tr, y_te= split_data(tX, y, ratio_train, seed)\n",
    "k_indices =build_k_indices(y, k_fold, seed)\n",
    "rmse_te_tmp = []\n",
    "BestLambdaForDeg=[]\n",
    "for index_degree, degree in enumerate(degrees):\n",
    "    rmse_te_tmp2 = []\n",
    "    for index_lambda, lambda_ in enumerate(lambdas):\n",
    "        loss_te_tmp=0\n",
    "        for k in range(k_fold):\n",
    "            _, loss_te, w=cross_validation(y, tX, k_indices, k, lambda_, degree)\n",
    "            loss_te_tmp= loss_te_tmp+loss_te\n",
    "        loss_te_tmp=loss_te_tmp/k_fold\n",
    "        rmse_te_tmp2.append(np.sqrt(2*loss_te_tmp))\n",
    "    rmse_te_tmp.append(min(rmse_te_tmp2))\n",
    "    BestLambdaForDeg.append(lambdas[np.argmin(rmse_te_tmp2)])\n",
    "BestDeg=degrees[np.argmin(rmse_te_tmp)]\n",
    "BestLambda= BestLambdaForDeg[np.argmin(rmse_te_tmp)]\n",
    "rmse_te=min(rmse_te_tmp)\n",
    "\n",
    "\n",
    "loss=rmse_te\n",
    "print(BestDeg)\n",
    "print(BestLambda)\n"
   ]
  },
  {
   "cell_type": "code",
   "execution_count": null,
   "metadata": {},
   "outputs": [
    {
     "data": {
      "text/plain": [
       "0.33968680947709307"
      ]
     },
     "execution_count": 4,
     "metadata": {},
     "output_type": "execute_result"
    }
   ],
   "source": [
    "# Least squares regression using normal equation\n",
    "weight, loss = least_squares(y, tX)\n",
    "loss"
   ]
  },
  {
   "cell_type": "code",
   "execution_count": 104,
   "metadata": {},
   "outputs": [
    {
     "data": {
      "text/plain": [
       "0.33944686042508954"
      ]
     },
     "execution_count": 104,
     "metadata": {},
     "output_type": "execute_result"
    }
   ],
   "source": [
    "# Ridge regression using normal equations\n",
    "y, tX, ids = load_csv_data(DATA_TRAIN_PATH)\n",
    "lambda_ = BestLambda\n",
    "tx=build_poly(tX,BestDeg)\n",
    "\n",
    "weights, loss = ridge_regression(y, tx, lambda_)\n",
    "loss"
   ]
  },
  {
   "cell_type": "markdown",
   "metadata": {},
   "source": [
    "## Generate predictions and save ouput in csv format for submission:"
   ]
  },
  {
   "cell_type": "code",
   "execution_count": 105,
   "metadata": {
    "collapsed": false,
    "jupyter": {
     "outputs_hidden": false
    }
   },
   "outputs": [],
   "source": [
    "DATA_TEST_PATH = '../data/test.csv' # TODO: download train data and supply path here \n",
    "_, tX_test, ids_test = load_csv_data(DATA_TEST_PATH)\n",
    "tX_test_poly=build_poly(tX_test,BestDeg)"
   ]
  },
  {
   "cell_type": "code",
   "execution_count": 106,
   "metadata": {
    "collapsed": false,
    "jupyter": {
     "outputs_hidden": false
    }
   },
   "outputs": [],
   "source": [
    "OUTPUT_PATH = 'result.csv' # TODO: fill in desired name of output file for submission\n",
    "y_pred = predict_labels(weights, tX_test_poly)\n",
    "create_csv_submission(ids_test, y_pred, OUTPUT_PATH)"
   ]
  }
 ],
 "metadata": {
  "anaconda-cloud": {},
  "interpreter": {
   "hash": "aee8b7b246df8f9039afb4144a1f6fd8d2ca17a180786b69acc140d282b71a49"
  },
  "kernelspec": {
   "display_name": "Python 3.9.7 64-bit",
   "name": "python3"
  },
  "language_info": {
   "codemirror_mode": {
    "name": "ipython",
    "version": 3
   },
   "file_extension": ".py",
   "mimetype": "text/x-python",
   "name": "python",
   "nbconvert_exporter": "python",
   "pygments_lexer": "ipython3",
   "version": "3.9.7"
  }
 },
 "nbformat": 4,
 "nbformat_minor": 4
}

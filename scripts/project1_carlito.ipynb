{
 "cells": [
  {
   "cell_type": "code",
   "execution_count": 2,
   "metadata": {
    "tags": []
   },
   "outputs": [],
   "source": [
    "# Useful starting lines\n",
    "%matplotlib inline\n",
    "import numpy as np\n",
    "import matplotlib.pyplot as plt\n",
    "%load_ext autoreload\n",
    "%autoreload 2"
   ]
  },
  {
   "cell_type": "markdown",
   "metadata": {},
   "source": [
    "## Load the training data into feature matrix, class labels, and event ids:"
   ]
  },
  {
   "cell_type": "code",
   "execution_count": 3,
   "metadata": {
    "collapsed": false,
    "jupyter": {
     "outputs_hidden": false
    }
   },
   "outputs": [],
   "source": [
    "from proj1_helpers import *\n",
    "from implementations import *\n",
    "DATA_TRAIN_PATH = '../data/train.csv' # TODO: download train data and supply path here \n",
    "y, tX, ids = load_csv_data(DATA_TRAIN_PATH)"
   ]
  },
  {
   "cell_type": "markdown",
   "metadata": {},
   "source": [
    "## Do your thing crazy machine learning thing here :) ..."
   ]
  },
  {
   "cell_type": "code",
   "execution_count": 4,
   "metadata": {},
   "outputs": [],
   "source": [
    "x, y_ = zip(*[(tX[i], y[i]) for i in range(tX.shape[0]) if tX[i,22] >1 ])\n",
    "x, y_ = np.array(x), np.array(y_)"
   ]
  },
  {
   "cell_type": "code",
   "execution_count": 5,
   "metadata": {},
   "outputs": [
    {
     "data": {
      "text/plain": [
       "array([ 1., -1.,  1., ..., -1.,  1., -1.])"
      ]
     },
     "execution_count": 5,
     "metadata": {},
     "output_type": "execute_result"
    }
   ],
   "source": [
    "y_"
   ]
  },
  {
   "cell_type": "code",
   "execution_count": 6,
   "metadata": {},
   "outputs": [
    {
     "data": {
      "text/plain": [
       "array([2., 3., 2., ..., 3., 3., 2.])"
      ]
     },
     "execution_count": 6,
     "metadata": {},
     "output_type": "execute_result"
    }
   ],
   "source": [
    "x[:,22]"
   ]
  },
  {
   "cell_type": "code",
   "execution_count": 8,
   "metadata": {},
   "outputs": [
    {
     "data": {
      "text/plain": [
       "72543"
      ]
     },
     "execution_count": 8,
     "metadata": {},
     "output_type": "execute_result"
    }
   ],
   "source": [
    "x.shape[0]"
   ]
  },
  {
   "cell_type": "code",
   "execution_count": 23,
   "metadata": {},
   "outputs": [
    {
     "name": "stderr",
     "output_type": "stream",
     "text": [
      "/tmp/ipykernel_561938/3142681196.py:6: RuntimeWarning: invalid value encountered in log\n",
      "  x = np.c_[x, np.log(x[:,i])]\n",
      "/tmp/ipykernel_561938/3142681196.py:6: RuntimeWarning: divide by zero encountered in log\n",
      "  x = np.c_[x, np.log(x[:,i])]\n"
     ]
    }
   ],
   "source": [
    "for i in range(x.shape[1]):\n",
    "    if i != 22:\n",
    "        x = np.c_[x, x[:,i]**2]\n",
    "        x = np.c_[x, x[:,i]**3]\n",
    "        x = np.c_[x, x[:,i]**4]\n",
    "        x = np.c_[x, np.log(x[:,i])]\n",
    "\n",
    "x = np.where(x==-999, np.nan, x) \n",
    "x = x[not x.isnan()]"
   ]
  },
  {
   "cell_type": "code",
   "execution_count": 24,
   "metadata": {},
   "outputs": [
    {
     "data": {
      "text/plain": [
       "(72543, 296)"
      ]
     },
     "execution_count": 24,
     "metadata": {},
     "output_type": "execute_result"
    }
   ],
   "source": [
    "x.shape"
   ]
  },
  {
   "cell_type": "code",
   "execution_count": 27,
   "metadata": {},
   "outputs": [
    {
     "data": {
      "text/plain": [
       "array([[ 1.38470000e+02,  5.16550000e+01,  9.78270000e+01, ...,\n",
       "         2.13750084e+12,  2.75343645e+16,  9.46355281e+00],\n",
       "       [ 8.97440000e+01,  1.35500000e+01,  5.91490000e+01, ...,\n",
       "         5.27520772e+13,  1.97842422e+18,  1.05322081e+01],\n",
       "       [ 1.48754000e+02,  2.88620000e+01,  1.07782000e+02, ...,\n",
       "         3.38730119e+13,  1.09598620e+18,  1.03845466e+01],\n",
       "       ...,\n",
       "       [-9.99000000e+02,  3.80830000e+01,  7.49970000e+02, ...,\n",
       "         7.11655581e+13,  2.94912476e+18,  1.06320100e+01],\n",
       "       [ 1.30075000e+02,  3.91800000e+00,  6.67810000e+01, ...,\n",
       "         2.65137294e+16,  7.90607798e+21,  1.26054797e+01],\n",
       "       [ 2.17020000e+02,  4.71560000e+01,  6.28240000e+01, ...,\n",
       "         2.79209297e+13,  8.47045035e+17,  1.03201326e+01]])"
      ]
     },
     "execution_count": 27,
     "metadata": {},
     "output_type": "execute_result"
    }
   ],
   "source": [
    "x"
   ]
  },
  {
   "cell_type": "code",
   "execution_count": 26,
   "metadata": {},
   "outputs": [
    {
     "name": "stdout",
     "output_type": "stream",
     "text": [
      "Gradient Descent(0/149): loss=nan\n",
      "Gradient Descent(1/149): loss=nan\n",
      "Gradient Descent(2/149): loss=nan\n",
      "Gradient Descent(3/149): loss=nan\n",
      "Gradient Descent(4/149): loss=nan\n",
      "Gradient Descent(5/149): loss=nan\n",
      "Gradient Descent(6/149): loss=nan\n",
      "Gradient Descent(7/149): loss=nan\n",
      "Gradient Descent(8/149): loss=nan\n",
      "Gradient Descent(9/149): loss=nan\n",
      "Gradient Descent(10/149): loss=nan\n",
      "Gradient Descent(11/149): loss=nan\n",
      "Gradient Descent(12/149): loss=nan\n",
      "Gradient Descent(13/149): loss=nan\n",
      "Gradient Descent(14/149): loss=nan\n",
      "Gradient Descent(15/149): loss=nan\n",
      "Gradient Descent(16/149): loss=nan\n",
      "Gradient Descent(17/149): loss=nan\n",
      "Gradient Descent(18/149): loss=nan\n",
      "Gradient Descent(19/149): loss=nan\n",
      "Gradient Descent(20/149): loss=nan\n",
      "Gradient Descent(21/149): loss=nan\n",
      "Gradient Descent(22/149): loss=nan\n",
      "Gradient Descent(23/149): loss=nan\n",
      "Gradient Descent(24/149): loss=nan\n",
      "Gradient Descent(25/149): loss=nan\n",
      "Gradient Descent(26/149): loss=nan\n",
      "Gradient Descent(27/149): loss=nan\n",
      "Gradient Descent(28/149): loss=nan\n",
      "Gradient Descent(29/149): loss=nan\n",
      "Gradient Descent(30/149): loss=nan\n",
      "Gradient Descent(31/149): loss=nan\n",
      "Gradient Descent(32/149): loss=nan\n",
      "Gradient Descent(33/149): loss=nan\n",
      "Gradient Descent(34/149): loss=nan\n",
      "Gradient Descent(35/149): loss=nan\n",
      "Gradient Descent(36/149): loss=nan\n",
      "Gradient Descent(37/149): loss=nan\n",
      "Gradient Descent(38/149): loss=nan\n",
      "Gradient Descent(39/149): loss=nan\n",
      "Gradient Descent(40/149): loss=nan\n",
      "Gradient Descent(41/149): loss=nan\n",
      "Gradient Descent(42/149): loss=nan\n",
      "Gradient Descent(43/149): loss=nan\n",
      "Gradient Descent(44/149): loss=nan\n",
      "Gradient Descent(45/149): loss=nan\n",
      "Gradient Descent(46/149): loss=nan\n",
      "Gradient Descent(47/149): loss=nan\n",
      "Gradient Descent(48/149): loss=nan\n",
      "Gradient Descent(49/149): loss=nan\n",
      "Gradient Descent(50/149): loss=nan\n",
      "Gradient Descent(51/149): loss=nan\n",
      "Gradient Descent(52/149): loss=nan\n",
      "Gradient Descent(53/149): loss=nan\n",
      "Gradient Descent(54/149): loss=nan\n",
      "Gradient Descent(55/149): loss=nan\n",
      "Gradient Descent(56/149): loss=nan\n",
      "Gradient Descent(57/149): loss=nan\n",
      "Gradient Descent(58/149): loss=nan\n",
      "Gradient Descent(59/149): loss=nan\n",
      "Gradient Descent(60/149): loss=nan\n",
      "Gradient Descent(61/149): loss=nan\n",
      "Gradient Descent(62/149): loss=nan\n",
      "Gradient Descent(63/149): loss=nan\n",
      "Gradient Descent(64/149): loss=nan\n",
      "Gradient Descent(65/149): loss=nan\n",
      "Gradient Descent(66/149): loss=nan\n",
      "Gradient Descent(67/149): loss=nan\n",
      "Gradient Descent(68/149): loss=nan\n",
      "Gradient Descent(69/149): loss=nan\n",
      "Gradient Descent(70/149): loss=nan\n",
      "Gradient Descent(71/149): loss=nan\n",
      "Gradient Descent(72/149): loss=nan\n",
      "Gradient Descent(73/149): loss=nan\n",
      "Gradient Descent(74/149): loss=nan\n",
      "Gradient Descent(75/149): loss=nan\n",
      "Gradient Descent(76/149): loss=nan\n",
      "Gradient Descent(77/149): loss=nan\n",
      "Gradient Descent(78/149): loss=nan\n",
      "Gradient Descent(79/149): loss=nan\n",
      "Gradient Descent(80/149): loss=nan\n",
      "Gradient Descent(81/149): loss=nan\n",
      "Gradient Descent(82/149): loss=nan\n",
      "Gradient Descent(83/149): loss=nan\n",
      "Gradient Descent(84/149): loss=nan\n",
      "Gradient Descent(85/149): loss=nan\n",
      "Gradient Descent(86/149): loss=nan\n",
      "Gradient Descent(87/149): loss=nan\n",
      "Gradient Descent(88/149): loss=nan\n",
      "Gradient Descent(89/149): loss=nan\n",
      "Gradient Descent(90/149): loss=nan\n",
      "Gradient Descent(91/149): loss=nan\n",
      "Gradient Descent(92/149): loss=nan\n",
      "Gradient Descent(93/149): loss=nan\n",
      "Gradient Descent(94/149): loss=nan\n",
      "Gradient Descent(95/149): loss=nan\n",
      "Gradient Descent(96/149): loss=nan\n",
      "Gradient Descent(97/149): loss=nan\n",
      "Gradient Descent(98/149): loss=nan\n",
      "Gradient Descent(99/149): loss=nan\n",
      "Gradient Descent(100/149): loss=nan\n",
      "Gradient Descent(101/149): loss=nan\n",
      "Gradient Descent(102/149): loss=nan\n",
      "Gradient Descent(103/149): loss=nan\n",
      "Gradient Descent(104/149): loss=nan\n",
      "Gradient Descent(105/149): loss=nan\n",
      "Gradient Descent(106/149): loss=nan\n",
      "Gradient Descent(107/149): loss=nan\n",
      "Gradient Descent(108/149): loss=nan\n",
      "Gradient Descent(109/149): loss=nan\n",
      "Gradient Descent(110/149): loss=nan\n",
      "Gradient Descent(111/149): loss=nan\n",
      "Gradient Descent(112/149): loss=nan\n",
      "Gradient Descent(113/149): loss=nan\n",
      "Gradient Descent(114/149): loss=nan\n",
      "Gradient Descent(115/149): loss=nan\n",
      "Gradient Descent(116/149): loss=nan\n",
      "Gradient Descent(117/149): loss=nan\n",
      "Gradient Descent(118/149): loss=nan\n",
      "Gradient Descent(119/149): loss=nan\n",
      "Gradient Descent(120/149): loss=nan\n",
      "Gradient Descent(121/149): loss=nan\n",
      "Gradient Descent(122/149): loss=nan\n",
      "Gradient Descent(123/149): loss=nan\n",
      "Gradient Descent(124/149): loss=nan\n",
      "Gradient Descent(125/149): loss=nan\n",
      "Gradient Descent(126/149): loss=nan\n",
      "Gradient Descent(127/149): loss=nan\n",
      "Gradient Descent(128/149): loss=nan\n",
      "Gradient Descent(129/149): loss=nan\n",
      "Gradient Descent(130/149): loss=nan\n",
      "Gradient Descent(131/149): loss=nan\n",
      "Gradient Descent(132/149): loss=nan\n",
      "Gradient Descent(133/149): loss=nan\n",
      "Gradient Descent(134/149): loss=nan\n",
      "Gradient Descent(135/149): loss=nan\n",
      "Gradient Descent(136/149): loss=nan\n",
      "Gradient Descent(137/149): loss=nan\n",
      "Gradient Descent(138/149): loss=nan\n",
      "Gradient Descent(139/149): loss=nan\n",
      "Gradient Descent(140/149): loss=nan\n",
      "Gradient Descent(141/149): loss=nan\n",
      "Gradient Descent(142/149): loss=nan\n",
      "Gradient Descent(143/149): loss=nan\n",
      "Gradient Descent(144/149): loss=nan\n",
      "Gradient Descent(145/149): loss=nan\n",
      "Gradient Descent(146/149): loss=nan\n",
      "Gradient Descent(147/149): loss=nan\n",
      "Gradient Descent(148/149): loss=nan\n",
      "Gradient Descent(149/149): loss=nan\n"
     ]
    }
   ],
   "source": [
    "# Linear regression using gradient descent\n",
    "\n",
    "initial_w = np.zeros(x.shape[1])\n",
    "max_iters = 150\n",
    "gamma = 0.085\n",
    "\n",
    "weights, loss = least_squares_GD(y_, standardize(x), initial_w, max_iters, gamma)"
   ]
  },
  {
   "cell_type": "code",
   "execution_count": null,
   "metadata": {},
   "outputs": [],
   "source": [
    "# Least squares regression using normal equation\n",
    "weight, loss = least_squares(y, tX)\n",
    "loss"
   ]
  },
  {
   "cell_type": "code",
   "execution_count": 29,
   "metadata": {},
   "outputs": [
    {
     "name": "stderr",
     "output_type": "stream",
     "text": [
      "/home/main/Documents/cours/ml/ml-project-1-pml/scripts/implementations.py:79: RuntimeWarning: invalid value encountered in matmul\n",
      "  w = np.linalg.solve(tx.T @ tx + lambda_pr * np.eye(tx.shape[1]), tx.T @ y)\n"
     ]
    },
    {
     "data": {
      "text/plain": [
       "nan"
      ]
     },
     "execution_count": 29,
     "metadata": {},
     "output_type": "execute_result"
    }
   ],
   "source": [
    "# Ridge regression using normal equations\n",
    "lambda_ = 1e-3\n",
    "weight, loss = ridge_regression(y_, x, lambda_)\n",
    "loss"
   ]
  },
  {
   "cell_type": "markdown",
   "metadata": {},
   "source": [
    "## Generate predictions and save ouput in csv format for submission:"
   ]
  },
  {
   "cell_type": "code",
   "execution_count": 30,
   "metadata": {
    "collapsed": false,
    "jupyter": {
     "outputs_hidden": false
    }
   },
   "outputs": [],
   "source": [
    "DATA_TEST_PATH = '../data/test.csv' # TODO: download train data and supply path here \n",
    "_, tX_test, ids_test = load_csv_data(DATA_TEST_PATH)"
   ]
  },
  {
   "cell_type": "code",
   "execution_count": 31,
   "metadata": {
    "collapsed": false,
    "jupyter": {
     "outputs_hidden": false
    }
   },
   "outputs": [
    {
     "ename": "ValueError",
     "evalue": "shapes (568238,30) and (296,) not aligned: 30 (dim 1) != 296 (dim 0)",
     "output_type": "error",
     "traceback": [
      "\u001b[0;31m---------------------------------------------------------------------------\u001b[0m",
      "\u001b[0;31mValueError\u001b[0m                                Traceback (most recent call last)",
      "\u001b[0;32m/tmp/ipykernel_561938/2682742058.py\u001b[0m in \u001b[0;36m<module>\u001b[0;34m\u001b[0m\n\u001b[1;32m      1\u001b[0m \u001b[0mOUTPUT_PATH\u001b[0m \u001b[0;34m=\u001b[0m \u001b[0;34m'result.csv'\u001b[0m \u001b[0;31m# TODO: fill in desired name of output file for submission\u001b[0m\u001b[0;34m\u001b[0m\u001b[0;34m\u001b[0m\u001b[0m\n\u001b[0;32m----> 2\u001b[0;31m \u001b[0my_pred\u001b[0m \u001b[0;34m=\u001b[0m \u001b[0mpredict_labels\u001b[0m\u001b[0;34m(\u001b[0m\u001b[0mweights\u001b[0m\u001b[0;34m,\u001b[0m \u001b[0mtX_test\u001b[0m\u001b[0;34m)\u001b[0m\u001b[0;34m\u001b[0m\u001b[0;34m\u001b[0m\u001b[0m\n\u001b[0m\u001b[1;32m      3\u001b[0m \u001b[0mcreate_csv_submission\u001b[0m\u001b[0;34m(\u001b[0m\u001b[0mids_test\u001b[0m\u001b[0;34m,\u001b[0m \u001b[0my_pred\u001b[0m\u001b[0;34m,\u001b[0m \u001b[0mOUTPUT_PATH\u001b[0m\u001b[0;34m)\u001b[0m\u001b[0;34m\u001b[0m\u001b[0;34m\u001b[0m\u001b[0m\n",
      "\u001b[0;32m~/Documents/cours/ml/ml-project-1-pml/scripts/proj1_helpers.py\u001b[0m in \u001b[0;36mpredict_labels\u001b[0;34m(weights, data)\u001b[0m\n\u001b[1;32m     27\u001b[0m \u001b[0;32mdef\u001b[0m \u001b[0mpredict_labels\u001b[0m\u001b[0;34m(\u001b[0m\u001b[0mweights\u001b[0m\u001b[0;34m,\u001b[0m \u001b[0mdata\u001b[0m\u001b[0;34m)\u001b[0m\u001b[0;34m:\u001b[0m\u001b[0;34m\u001b[0m\u001b[0;34m\u001b[0m\u001b[0m\n\u001b[1;32m     28\u001b[0m     \u001b[0;34m\"\"\"Generates class predictions given weights, and a test data matrix\"\"\"\u001b[0m\u001b[0;34m\u001b[0m\u001b[0;34m\u001b[0m\u001b[0m\n\u001b[0;32m---> 29\u001b[0;31m     \u001b[0my_pred\u001b[0m \u001b[0;34m=\u001b[0m \u001b[0mnp\u001b[0m\u001b[0;34m.\u001b[0m\u001b[0mdot\u001b[0m\u001b[0;34m(\u001b[0m\u001b[0mdata\u001b[0m\u001b[0;34m,\u001b[0m \u001b[0mweights\u001b[0m\u001b[0;34m)\u001b[0m\u001b[0;34m\u001b[0m\u001b[0;34m\u001b[0m\u001b[0m\n\u001b[0m\u001b[1;32m     30\u001b[0m     \u001b[0my_pred\u001b[0m\u001b[0;34m[\u001b[0m\u001b[0mnp\u001b[0m\u001b[0;34m.\u001b[0m\u001b[0mwhere\u001b[0m\u001b[0;34m(\u001b[0m\u001b[0my_pred\u001b[0m \u001b[0;34m<=\u001b[0m \u001b[0;36m0\u001b[0m\u001b[0;34m)\u001b[0m\u001b[0;34m]\u001b[0m \u001b[0;34m=\u001b[0m \u001b[0;34m-\u001b[0m\u001b[0;36m1\u001b[0m\u001b[0;34m\u001b[0m\u001b[0;34m\u001b[0m\u001b[0m\n\u001b[1;32m     31\u001b[0m     \u001b[0my_pred\u001b[0m\u001b[0;34m[\u001b[0m\u001b[0mnp\u001b[0m\u001b[0;34m.\u001b[0m\u001b[0mwhere\u001b[0m\u001b[0;34m(\u001b[0m\u001b[0my_pred\u001b[0m \u001b[0;34m>\u001b[0m \u001b[0;36m0\u001b[0m\u001b[0;34m)\u001b[0m\u001b[0;34m]\u001b[0m \u001b[0;34m=\u001b[0m \u001b[0;36m1\u001b[0m\u001b[0;34m\u001b[0m\u001b[0;34m\u001b[0m\u001b[0m\n",
      "\u001b[0;32m<__array_function__ internals>\u001b[0m in \u001b[0;36mdot\u001b[0;34m(*args, **kwargs)\u001b[0m\n",
      "\u001b[0;31mValueError\u001b[0m: shapes (568238,30) and (296,) not aligned: 30 (dim 1) != 296 (dim 0)"
     ]
    }
   ],
   "source": [
    "OUTPUT_PATH = 'result.csv' # TODO: fill in desired name of output file for submission\n",
    "y_pred = predict_labels(weights, tX_test)\n",
    "create_csv_submission(ids_test, y_pred, OUTPUT_PATH)"
   ]
  },
  {
   "cell_type": "code",
   "execution_count": null,
   "metadata": {},
   "outputs": [],
   "source": []
  }
 ],
 "metadata": {
  "anaconda-cloud": {},
  "interpreter": {
   "hash": "e7370f93d1d0cde622a1f8e1c04877d8463912d04d973331ad4851f04de6915a"
  },
  "kernelspec": {
   "display_name": "Python 3.9.7 64-bit",
   "name": "python3"
  },
  "language_info": {
   "codemirror_mode": {
    "name": "ipython",
    "version": 3
   },
   "file_extension": ".py",
   "mimetype": "text/x-python",
   "name": "python",
   "nbconvert_exporter": "python",
   "pygments_lexer": "ipython3",
   "version": "3.9.7"
  }
 },
 "nbformat": 4,
 "nbformat_minor": 4
}

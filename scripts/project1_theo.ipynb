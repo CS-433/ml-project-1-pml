{
 "cells": [
  {
   "cell_type": "code",
   "execution_count": 1,
   "metadata": {
    "tags": []
   },
   "outputs": [],
   "source": [
    "# Useful starting lines\n",
    "%matplotlib inline\n",
    "import numpy as np\n",
    "import matplotlib.pyplot as plt\n",
    "%load_ext autoreload\n",
    "%autoreload 2"
   ]
  },
  {
   "cell_type": "markdown",
   "metadata": {},
   "source": [
    "## Load the training data into feature matrix, class labels, and event ids:"
   ]
  },
  {
   "cell_type": "code",
   "execution_count": 4,
   "metadata": {
    "collapsed": false,
    "jupyter": {
     "outputs_hidden": false
    }
   },
   "outputs": [],
   "source": [
    "from proj1_helpers import *\n",
    "from implementations import *\n",
    "DATA_TRAIN_PATH = '../data/train.csv' # TODO: download train data and supply path here \n",
    "y, tX, ids = load_csv_data(DATA_TRAIN_PATH)"
   ]
  },
  {
   "cell_type": "code",
   "execution_count": 34,
   "metadata": {},
   "outputs": [],
   "source": [
    "# We Separate the dataset\n",
    "from implementations import *\n",
    "\n",
    "tX_list, ids_list, y_list = separate_dataset(tX, ids, y)"
   ]
  },
  {
   "cell_type": "markdown",
   "metadata": {},
   "source": [
    "## Do your thing crazy machine learning thing here :) ..."
   ]
  },
  {
   "cell_type": "code",
   "execution_count": 3,
   "metadata": {},
   "outputs": [
    {
     "name": "stdout",
     "output_type": "stream",
     "text": [
      "Gradient Descent(0/49): loss=0.5\n",
      "Gradient Descent(1/49): loss=0.468497502027179\n",
      "Gradient Descent(2/49): loss=0.45137127484600037\n",
      "Gradient Descent(3/49): loss=0.44178360296424807\n",
      "Gradient Descent(4/49): loss=0.4361747934007615\n",
      "Gradient Descent(5/49): loss=0.4326884948512338\n",
      "Gradient Descent(6/49): loss=0.430353984102334\n",
      "Gradient Descent(7/49): loss=0.42866142266473617\n",
      "Gradient Descent(8/49): loss=0.42734114751792385\n",
      "Gradient Descent(9/49): loss=0.4262489193466735\n",
      "Gradient Descent(10/49): loss=0.42530621125496143\n",
      "Gradient Descent(11/49): loss=0.424469100097384\n",
      "Gradient Descent(12/49): loss=0.4237120300524356\n",
      "Gradient Descent(13/49): loss=0.4230193154875757\n",
      "Gradient Descent(14/49): loss=0.4223806759656578\n",
      "Gradient Descent(15/49): loss=0.42178887555037814\n",
      "Gradient Descent(16/49): loss=0.42123846301759116\n",
      "Gradient Descent(17/49): loss=0.4207250901034928\n",
      "Gradient Descent(18/49): loss=0.420245134856558\n",
      "Gradient Descent(19/49): loss=0.4197954872779466\n",
      "Gradient Descent(20/49): loss=0.4193734222616614\n",
      "Gradient Descent(21/49): loss=0.4189765202651852\n",
      "Gradient Descent(22/49): loss=0.4186026146841896\n",
      "Gradient Descent(23/49): loss=0.41824975464684344\n",
      "Gradient Descent(24/49): loss=0.41791617708667567\n",
      "Gradient Descent(25/49): loss=0.4176002846872414\n",
      "Gradient Descent(26/49): loss=0.41730062775921306\n",
      "Gradient Descent(27/49): loss=0.4170158889082615\n",
      "Gradient Descent(28/49): loss=0.4167448697933708\n",
      "Gradient Descent(29/49): loss=0.41648647952491813\n",
      "Gradient Descent(30/49): loss=0.41623972439727996\n",
      "Gradient Descent(31/49): loss=0.41600369873841847\n",
      "Gradient Descent(32/49): loss=0.4157775767139542\n",
      "Gradient Descent(33/49): loss=0.41556060495935865\n",
      "Gradient Descent(34/49): loss=0.4153520959386417\n",
      "Gradient Descent(35/49): loss=0.4151514219456574\n",
      "Gradient Descent(36/49): loss=0.4149580096773226\n",
      "Gradient Descent(37/49): loss=0.4147713353182151\n",
      "Gradient Descent(38/49): loss=0.41459092008406745\n",
      "Gradient Descent(39/49): loss=0.4144163261782028\n",
      "Gradient Descent(40/49): loss=0.4142471531203905\n",
      "Gradient Descent(41/49): loss=0.4140830344121427\n",
      "Gradient Descent(42/49): loss=0.41392363450639025\n",
      "Gradient Descent(43/49): loss=0.4137686460528134\n",
      "Gradient Descent(44/49): loss=0.4136177873930536\n",
      "Gradient Descent(45/49): loss=0.41347080028260236\n",
      "Gradient Descent(46/49): loss=0.41332744781842434\n",
      "Gradient Descent(47/49): loss=0.4131875125534186\n",
      "Gradient Descent(48/49): loss=0.41305079478059653\n",
      "Gradient Descent(49/49): loss=0.41291711097149875\n"
     ]
    }
   ],
   "source": [
    "# Linear regression using gradient descent\n",
    "\n",
    "initial_w = np.zeros(tX.shape[1])\n",
    "max_iters = 50\n",
    "gamma = 3e-7\n",
    "\n",
    "weights, loss = least_squares_GD(y, tX, initial_w, max_iters, gamma)"
   ]
  },
  {
   "cell_type": "code",
   "execution_count": 76,
   "metadata": {},
   "outputs": [
    {
     "data": {
      "text/plain": [
       "0.3396868094770349"
      ]
     },
     "execution_count": 76,
     "metadata": {},
     "output_type": "execute_result"
    }
   ],
   "source": [
    "# Least squares regression using normal equation\n",
    "weights, loss = least_squares(y, tX)\n",
    "loss"
   ]
  },
  {
   "cell_type": "code",
   "execution_count": null,
   "metadata": {},
   "outputs": [],
   "source": [
    "\n",
    "# Least Squares on separated dataset\n",
    "\n",
    "weights_0, loss_0 = least_squares(y_0, tX_0)\n",
    "weights_1, loss_1 = least_squares(y_1, tX_1)\n",
    "weights_2, loss_2 = least_squares(y_2, tX_2)\n",
    "weights_3, loss_3 = least_squares(y_3, tX_3)\n",
    "\n"
   ]
  },
  {
   "cell_type": "code",
   "execution_count": 9,
   "metadata": {},
   "outputs": [
    {
     "data": {
      "text/plain": [
       "(30,)"
      ]
     },
     "execution_count": 9,
     "metadata": {},
     "output_type": "execute_result"
    }
   ],
   "source": [
    "# Ridge regression using normal equations\n",
    "lambda_ = 1e-3\n",
    "weights, loss = ridge_regression(y, tX, lambda_)\n",
    "loss"
   ]
  },
  {
   "cell_type": "code",
   "execution_count": 29,
   "metadata": {},
   "outputs": [
    {
     "data": {
      "text/plain": [
       "(250000, 30)"
      ]
     },
     "execution_count": 29,
     "metadata": {},
     "output_type": "execute_result"
    }
   ],
   "source": [
    "# Ridge regression with data augmentation\n",
    "mat_tX = build_poly(tX, 3)\n",
    "weights, loss = ridge_regression(y, mat_tX, lambda_)\n",
    "loss"
   ]
  },
  {
   "cell_type": "code",
   "execution_count": 35,
   "metadata": {},
   "outputs": [],
   "source": [
    "# Ridge regression with separated data\n",
    "lambda_ = 1e-3\n",
    "weights_list, loss_list = separated_train(tX_list, y_list, ridge_regression, lambda_)"
   ]
  },
  {
   "cell_type": "markdown",
   "metadata": {},
   "source": [
    "## Generate predictions and save ouput in csv format for submission:"
   ]
  },
  {
   "cell_type": "code",
   "execution_count": 37,
   "metadata": {
    "collapsed": false,
    "jupyter": {
     "outputs_hidden": false
    }
   },
   "outputs": [],
   "source": [
    "DATA_TEST_PATH = '../data/test.csv' # TODO: download train data and supply path here \n",
    "_, tX_test, ids_test = load_csv_data(DATA_TEST_PATH)"
   ]
  },
  {
   "cell_type": "code",
   "execution_count": 38,
   "metadata": {
    "collapsed": false,
    "jupyter": {
     "outputs_hidden": false
    }
   },
   "outputs": [
    {
     "name": "stdout",
     "output_type": "stream",
     "text": [
      "(568238, 240)\n"
     ]
    },
    {
     "ename": "ValueError",
     "evalue": "shapes (568238,240) and (4,30) not aligned: 240 (dim 1) != 4 (dim 0)",
     "output_type": "error",
     "traceback": [
      "\u001b[1;31m---------------------------------------------------------------------------\u001b[0m",
      "\u001b[1;31mValueError\u001b[0m                                Traceback (most recent call last)",
      "\u001b[1;32mD:\\TEMP/ipykernel_5056/3670384538.py\u001b[0m in \u001b[0;36m<module>\u001b[1;34m\u001b[0m\n\u001b[0;32m      2\u001b[0m \u001b[0mmat_tX_test\u001b[0m \u001b[1;33m=\u001b[0m \u001b[0mbuild_poly\u001b[0m\u001b[1;33m(\u001b[0m\u001b[0mtX_test\u001b[0m\u001b[1;33m,\u001b[0m \u001b[1;36m3\u001b[0m\u001b[1;33m)\u001b[0m\u001b[1;33m\u001b[0m\u001b[1;33m\u001b[0m\u001b[0m\n\u001b[0;32m      3\u001b[0m \u001b[0mprint\u001b[0m\u001b[1;33m(\u001b[0m\u001b[0mmat_tX_test\u001b[0m\u001b[1;33m.\u001b[0m\u001b[0mshape\u001b[0m\u001b[1;33m)\u001b[0m\u001b[1;33m\u001b[0m\u001b[1;33m\u001b[0m\u001b[0m\n\u001b[1;32m----> 4\u001b[1;33m \u001b[0my_pred\u001b[0m \u001b[1;33m=\u001b[0m \u001b[0mpredict_labels\u001b[0m\u001b[1;33m(\u001b[0m\u001b[0mweights\u001b[0m\u001b[1;33m,\u001b[0m \u001b[0mmat_tX_test\u001b[0m\u001b[1;33m)\u001b[0m\u001b[1;33m\u001b[0m\u001b[1;33m\u001b[0m\u001b[0m\n\u001b[0m\u001b[0;32m      5\u001b[0m \u001b[0mcreate_csv_submission\u001b[0m\u001b[1;33m(\u001b[0m\u001b[0mids_test\u001b[0m\u001b[1;33m,\u001b[0m \u001b[0my_pred\u001b[0m\u001b[1;33m,\u001b[0m \u001b[0mOUTPUT_PATH\u001b[0m\u001b[1;33m)\u001b[0m\u001b[1;33m\u001b[0m\u001b[1;33m\u001b[0m\u001b[0m\n",
      "\u001b[1;32md:\\Documents\\EPFL\\MA3\\ML\\projects\\scripts\\proj1_helpers.py\u001b[0m in \u001b[0;36mpredict_labels\u001b[1;34m(weights, data)\u001b[0m\n\u001b[0;32m     27\u001b[0m \u001b[1;32mdef\u001b[0m \u001b[0mpredict_labels\u001b[0m\u001b[1;33m(\u001b[0m\u001b[0mweights\u001b[0m\u001b[1;33m,\u001b[0m \u001b[0mdata\u001b[0m\u001b[1;33m)\u001b[0m\u001b[1;33m:\u001b[0m\u001b[1;33m\u001b[0m\u001b[1;33m\u001b[0m\u001b[0m\n\u001b[0;32m     28\u001b[0m     \u001b[1;34m\"\"\"Generates class predictions given weights, and a test data matrix\"\"\"\u001b[0m\u001b[1;33m\u001b[0m\u001b[1;33m\u001b[0m\u001b[0m\n\u001b[1;32m---> 29\u001b[1;33m     \u001b[0my_pred\u001b[0m \u001b[1;33m=\u001b[0m \u001b[0mnp\u001b[0m\u001b[1;33m.\u001b[0m\u001b[0mdot\u001b[0m\u001b[1;33m(\u001b[0m\u001b[0mdata\u001b[0m\u001b[1;33m,\u001b[0m \u001b[0mweights\u001b[0m\u001b[1;33m)\u001b[0m\u001b[1;33m\u001b[0m\u001b[1;33m\u001b[0m\u001b[0m\n\u001b[0m\u001b[0;32m     30\u001b[0m     \u001b[0my_pred\u001b[0m\u001b[1;33m[\u001b[0m\u001b[0mnp\u001b[0m\u001b[1;33m.\u001b[0m\u001b[0mwhere\u001b[0m\u001b[1;33m(\u001b[0m\u001b[0my_pred\u001b[0m \u001b[1;33m<=\u001b[0m \u001b[1;36m0\u001b[0m\u001b[1;33m)\u001b[0m\u001b[1;33m]\u001b[0m \u001b[1;33m=\u001b[0m \u001b[1;33m-\u001b[0m\u001b[1;36m1\u001b[0m\u001b[1;33m\u001b[0m\u001b[1;33m\u001b[0m\u001b[0m\n\u001b[0;32m     31\u001b[0m     \u001b[0my_pred\u001b[0m\u001b[1;33m[\u001b[0m\u001b[0mnp\u001b[0m\u001b[1;33m.\u001b[0m\u001b[0mwhere\u001b[0m\u001b[1;33m(\u001b[0m\u001b[0my_pred\u001b[0m \u001b[1;33m>\u001b[0m \u001b[1;36m0\u001b[0m\u001b[1;33m)\u001b[0m\u001b[1;33m]\u001b[0m \u001b[1;33m=\u001b[0m \u001b[1;36m1\u001b[0m\u001b[1;33m\u001b[0m\u001b[1;33m\u001b[0m\u001b[0m\n",
      "\u001b[1;32m<__array_function__ internals>\u001b[0m in \u001b[0;36mdot\u001b[1;34m(*args, **kwargs)\u001b[0m\n",
      "\u001b[1;31mValueError\u001b[0m: shapes (568238,240) and (4,30) not aligned: 240 (dim 1) != 4 (dim 0)"
     ]
    }
   ],
   "source": [
    "OUTPUT_PATH = 'result.csv' # TODO: fill in desired name of output file for submission\n",
    "mat_tX_test = build_poly(tX_test, 3)\n",
    "print(mat_tX_test.shape)\n",
    "y_pred = predict_labels(weights, mat_tX_test)\n",
    "create_csv_submission(ids_test, y_pred, OUTPUT_PATH)"
   ]
  },
  {
   "cell_type": "code",
   "execution_count": 41,
   "metadata": {},
   "outputs": [],
   "source": [
    "# Separated dataset\n",
    "OUTPUT_PATH = 'result.csv' # TODO: fill in desired name of output file for submission\n",
    "\n",
    "tX_test_list, ids_test_list = separate_dataset(tX_test, ids_test)\n",
    "\n",
    "y_pred_list = separated_eval(weights_list, tX_test_list)\n",
    "\n",
    "y_pred = np.concatenate((y_pred_list[0], y_pred_list[1], y_pred_list[2], y_pred_list[3]))\n",
    "ids_test_sub = np.concatenate((ids_test_list[0], ids_test_list[1], ids_test_list[2], ids_test_list[3]))\n",
    "\n",
    "create_csv_submission(ids_test_sub, y_pred, OUTPUT_PATH)"
   ]
  }
 ],
 "metadata": {
  "anaconda-cloud": {},
  "interpreter": {
   "hash": "af60c6d1ba22fcf692506d80c930cf10d4343429c429540daec4a37d3dd3684b"
  },
  "kernelspec": {
   "display_name": "Python 3.8.5 64-bit ('base': conda)",
   "name": "python3"
  },
  "language_info": {
   "codemirror_mode": {
    "name": "ipython",
    "version": 3
   },
   "file_extension": ".py",
   "mimetype": "text/x-python",
   "name": "python",
   "nbconvert_exporter": "python",
   "pygments_lexer": "ipython3",
   "version": "3.8.5"
  }
 },
 "nbformat": 4,
 "nbformat_minor": 4
}

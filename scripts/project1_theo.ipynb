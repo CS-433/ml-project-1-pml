{
 "cells": [
  {
   "cell_type": "code",
   "execution_count": 1,
   "metadata": {
    "tags": []
   },
   "outputs": [],
   "source": [
    "# Useful starting lines\n",
    "%matplotlib inline\n",
    "import numpy as np\n",
    "import matplotlib.pyplot as plt\n",
    "%load_ext autoreload\n",
    "%autoreload 2"
   ]
  },
  {
   "cell_type": "markdown",
   "metadata": {},
   "source": [
    "## Load the training data into feature matrix, class labels, and event ids, and separate the dataset:"
   ]
  },
  {
   "cell_type": "code",
   "execution_count": 2,
   "metadata": {
    "collapsed": false,
    "jupyter": {
     "outputs_hidden": false
    }
   },
   "outputs": [],
   "source": [
    "from proj1_helpers import *\n",
    "DATA_TRAIN_PATH = '../data/train.csv' # TODO: download train data and supply path here \n",
    "y, tX, ids = load_csv_data(DATA_TRAIN_PATH)"
   ]
  },
  {
   "cell_type": "code",
   "execution_count": 3,
   "metadata": {},
   "outputs": [],
   "source": [
    "DATA_TEST_PATH = '../data/test.csv' # TODO: download train data and supply path here \n",
    "_, tX_test, ids_test = load_csv_data(DATA_TEST_PATH)"
   ]
  },
  {
   "cell_type": "code",
   "execution_count": 4,
   "metadata": {},
   "outputs": [],
   "source": [
    "# We Separate the dataset\n",
    "from implementations import *\n",
    "\n",
    "tX_list, ids_list, y_list = separate_dataset(tX, ids, y, False)\n",
    "tX_test_list, ids_test_list = separate_dataset(tX_test, ids_test) "
   ]
  },
  {
   "cell_type": "markdown",
   "metadata": {},
   "source": [
    "## Grid Search ridge regression"
   ]
  },
  {
   "cell_type": "code",
   "execution_count": 33,
   "metadata": {},
   "outputs": [
    {
     "name": "stdout",
     "output_type": "stream",
     "text": [
      "Dataset part 0:\n",
      "Done Deg\n",
      "     Best degree: 2\n",
      "     Best lambda: 1.6237767391887209e-06\n",
      "     Loss: 0.41665525025152783\n",
      "Dataset part 1:\n",
      "Done Deg\n",
      "     Best degree: 1\n",
      "     Best lambda: 1.274274985703132e-07\n",
      "     Loss: 0.7728515573320198\n",
      "Dataset part 2:\n",
      "Done Deg\n",
      "     Best degree: 2\n",
      "     Best lambda: 0.0006158482110660254\n",
      "     Loss: 0.5230560284718709\n",
      "Dataset part 3:\n",
      "Done Deg\n",
      "     Best degree: 4\n",
      "     Best lambda: 1e-08\n",
      "     Loss: 0.8181596533837344\n",
      "Dataset part 4:\n",
      "Done Deg\n",
      "     Best degree: 3\n",
      "     Best lambda: 0.0014384498882876629\n",
      "     Loss: 0.5456309193330676\n",
      "Dataset part 5:\n",
      "Done Deg\n",
      "     Best degree: 5\n",
      "     Best lambda: 1e-08\n",
      "     Loss: 0.7575400712773024\n"
     ]
    }
   ],
   "source": [
    "function = ridge_regression\n",
    "degree_vec = []\n",
    "lambda_vec = []\n",
    "for i in range(6):\n",
    "    print('Dataset part {l}:'.format(l = i))\n",
    "    rmse_te, BestDeg, BestLambda, _ = grid_search(y_list[i], tX_list[i], function, True, 4, degrees= range(1, 6), lambdas=np.logspace(-8,-1,20))\n",
    "    degree_vec.append(BestDeg)\n",
    "    lambda_vec.append(BestLambda)\n",
    "    print('     Best degree: {d}'.format(d = BestDeg))\n",
    "    print('     Best lambda: {m}'.format(m = BestLambda))\n",
    "    print('     Loss: {lo}'.format(lo = rmse_te))\n"
   ]
  },
  {
   "cell_type": "code",
   "execution_count": 34,
   "metadata": {},
   "outputs": [],
   "source": [
    "weights_list = []\n",
    "loss_list = []\n",
    "mat_tX_test_list = []\n",
    "\n",
    "for i in range(6):\n",
    "    mat_tX, mat_tX_test = build_poly_log(tX_list[i], degree_vec[i], True, tX_test_list[i])\n",
    "    w, l = ridge_regression(y_list[i], mat_tX, lambda_vec[i])\n",
    "    weights_list.append(w)\n",
    "    loss_list.append(l)\n",
    "    mat_tX_test_list.append(mat_tX_test)\n",
    "    "
   ]
  },
  {
   "cell_type": "markdown",
   "metadata": {},
   "source": [
    "## Gradient Descent"
   ]
  },
  {
   "cell_type": "code",
   "execution_count": null,
   "metadata": {},
   "outputs": [],
   "source": [
    "# Linear regression using gradient descent\n",
    "\n",
    "initial_w = np.zeros(tX.shape[1])\n",
    "max_iters = 50\n",
    "gamma = 3e-7\n",
    "\n",
    "weights, loss = least_squares_GD(y, tX, initial_w, max_iters, gamma)"
   ]
  },
  {
   "cell_type": "markdown",
   "metadata": {},
   "source": [
    "## Least squares"
   ]
  },
  {
   "cell_type": "code",
   "execution_count": 76,
   "metadata": {},
   "outputs": [
    {
     "data": {
      "text/plain": [
       "0.3396868094770349"
      ]
     },
     "execution_count": 76,
     "metadata": {},
     "output_type": "execute_result"
    }
   ],
   "source": [
    "# Least squares regression using normal equation\n",
    "weights, loss = least_squares(y, tX)\n",
    "loss"
   ]
  },
  {
   "cell_type": "markdown",
   "metadata": {},
   "source": [
    "## Ridge regression"
   ]
  },
  {
   "cell_type": "code",
   "execution_count": 9,
   "metadata": {},
   "outputs": [
    {
     "data": {
      "text/plain": [
       "(30,)"
      ]
     },
     "execution_count": 9,
     "metadata": {},
     "output_type": "execute_result"
    }
   ],
   "source": [
    "# Ridge regression using normal equations\n",
    "lambda_ = 1e-3\n",
    "weights, loss = ridge_regression(y, tX, lambda_)\n",
    "loss"
   ]
  },
  {
   "cell_type": "code",
   "execution_count": 59,
   "metadata": {},
   "outputs": [
    {
     "data": {
      "text/plain": [
       "0.2967432202164457"
      ]
     },
     "execution_count": 59,
     "metadata": {},
     "output_type": "execute_result"
    }
   ],
   "source": [
    "# Ridge regression with data augmentation\n",
    "lambda_ = 1e-3\n",
    "mat_tX = build_poly(tX, 5)\n",
    "weights, loss = ridge_regression(y, mat_tX, lambda_)\n",
    "\n",
    "loss"
   ]
  },
  {
   "cell_type": "code",
   "execution_count": 35,
   "metadata": {},
   "outputs": [],
   "source": [
    "# Ridge regression with separated data\n",
    "lambda_ = 1e-3\n",
    "weights_list, loss_list = separated_train(tX_list, y_list, ridge_regression, lambda_)"
   ]
  },
  {
   "cell_type": "code",
   "execution_count": 76,
   "metadata": {},
   "outputs": [],
   "source": [
    "# Ridge regression on separated datset with data augmentation\n",
    "lambda_ = 1e-3\n",
    "mat_tX_list = build_poly_separated(tX_list, 3)\n",
    "# weights, loss = ridge_regression(y_list[0], mat_tX_list[0], lambda_)\n",
    "\n",
    "weights_list, loss_list = separated_train(mat_tX_list, y_list, ridge_regression, lambda_)"
   ]
  },
  {
   "cell_type": "markdown",
   "metadata": {},
   "source": [
    "## Grid search Logistic regression"
   ]
  },
  {
   "cell_type": "code",
   "execution_count": null,
   "metadata": {},
   "outputs": [],
   "source": [
    "tX_list, ids_list, y_list = separate_dataset(tX, ids, y, True)\n",
    "tX_test_list, ids_test_list = separate_dataset(tX_test, ids_test) \n",
    "\n",
    "degrees = range(1, 6)\n",
    "lambdas = np.logspace(-6, 0, 6)\n",
    "gammas = np.logspace(-3, 0, 4)\n",
    "\n",
    "function = reg_logistic_regression\n",
    "log = True\n",
    "\n",
    "degree_vec = []\n",
    "lambda_vec = []\n",
    "gamma_vec = []\n",
    "\n",
    "for i in range(6):\n",
    "    rmse_te, BestDeg, BestLambda, BestGamma = grid_search(y_list[i], tX_list[i], function, log, 4, degrees, lambdas, gammas)\n",
    "    degree_vec.append(BestDeg)\n",
    "    lambda_vec.append(BestLambda)\n",
    "    gamma_vec.append(BestGamma)\n",
    "    print(rmse_te)\n",
    "\n",
    "print(degree_vec)\n",
    "print(lambda_vec)\n",
    "print(gamma_vec)\n"
   ]
  },
  {
   "cell_type": "code",
   "execution_count": 15,
   "metadata": {},
   "outputs": [
    {
     "name": "stdout",
     "output_type": "stream",
     "text": [
      "loop\n",
      "Current iteration=0, loss=0.6931471805599452\n",
      "Current iteration=100, loss=0.176268114594039\n",
      "Current iteration=200, loss=0.1735295804822671\n",
      "Current iteration=300, loss=0.17224544474301137\n",
      "Current iteration=400, loss=0.17131340677541598\n",
      "Current iteration=500, loss=0.1705963764222974\n",
      "Current iteration=600, loss=0.17003443498005683\n",
      "Current iteration=700, loss=0.16958940207423484\n",
      "Current iteration=800, loss=0.16923431378090942\n",
      "Current iteration=900, loss=0.16894935390461058\n",
      "Current iteration=1000, loss=0.16871962495762588\n",
      "Current iteration=1100, loss=0.1685337442752773\n",
      "Current iteration=1200, loss=0.16838290706829\n",
      "Current iteration=1300, loss=0.1682602388975948\n",
      "Current iteration=1400, loss=0.1681603334142163\n",
      "Current iteration=1500, loss=0.1680789108001246\n",
      "Current iteration=1600, loss=0.1680125574074054\n",
      "Current iteration=1700, loss=0.16795852424441296\n",
      "Current iteration=1800, loss=0.16791457303927929\n",
      "Current iteration=1900, loss=0.1678788632776573\n",
      "Current iteration=2000, loss=0.16784987282269523\n",
      "Current iteration=2100, loss=0.16782634243498673\n",
      "Current iteration=2200, loss=0.1678072345931094\n",
      "Current iteration=2300, loss=0.16779169983567477\n",
      "Current iteration=2400, loss=0.1677790472647934\n",
      "treshold\n",
      "0.16777199932381937\n",
      "loop\n",
      "Current iteration=0, loss=0.6931471805599453\n",
      "Current iteration=100, loss=0.4653146422783873\n",
      "Current iteration=200, loss=0.4577225037981553\n",
      "Current iteration=300, loss=0.45503006782036\n",
      "Current iteration=400, loss=0.45379555668129284\n",
      "Current iteration=500, loss=0.4531192550803794\n",
      "Current iteration=600, loss=0.4527014148013597\n",
      "Current iteration=700, loss=0.45242336559461477\n",
      "Current iteration=800, loss=0.4522302911972847\n",
      "Current iteration=900, loss=0.45209304617338925\n",
      "Current iteration=1000, loss=0.451994243538368\n",
      "Current iteration=1100, loss=0.45192262622530094\n",
      "Current iteration=1200, loss=0.4518705184913472\n",
      "Current iteration=1300, loss=0.45183252518491746\n",
      "Current iteration=1400, loss=0.4518047887640354\n",
      "Current iteration=1500, loss=0.4517845248012196\n",
      "Current iteration=1600, loss=0.451769712812642\n",
      "treshold\n",
      "0.45176128093170886\n",
      "loop\n",
      "Current iteration=0, loss=0.6931471805599453\n",
      "Current iteration=100, loss=0.2503645837157752\n",
      "Current iteration=200, loss=0.24750996813712467\n",
      "Current iteration=300, loss=0.24598151734373025\n",
      "Current iteration=400, loss=0.24498484792288908\n",
      "Current iteration=500, loss=0.2443095612315461\n",
      "Current iteration=600, loss=0.24384204238456558\n",
      "Current iteration=700, loss=0.24351334796616889\n",
      "Current iteration=800, loss=0.2432795310797536\n",
      "Current iteration=900, loss=0.24311166013833577\n",
      "Current iteration=1000, loss=0.24299023387806948\n",
      "Current iteration=1100, loss=0.24290186543946754\n",
      "Current iteration=1200, loss=0.2428372301620156\n",
      "Current iteration=1300, loss=0.24278975515160925\n",
      "Current iteration=1400, loss=0.24275476146217734\n",
      "Current iteration=1500, loss=0.24272889099422207\n",
      "Current iteration=1600, loss=0.24270971703183586\n",
      "Current iteration=1700, loss=0.24269547574497521\n",
      "treshold\n",
      "0.24268783668115007\n",
      "loop\n",
      "Current iteration=0, loss=0.6931471805599453\n",
      "Current iteration=100, loss=0.5698427157840766\n",
      "Current iteration=200, loss=0.5674445449876933\n",
      "Current iteration=300, loss=0.5666314503299165\n",
      "Current iteration=400, loss=0.566226301019475\n",
      "Current iteration=500, loss=0.5660034762209184\n",
      "Current iteration=600, loss=0.5658762887404484\n",
      "Current iteration=700, loss=0.5658021659329527\n",
      "Current iteration=800, loss=0.5657583657549844\n",
      "Current iteration=900, loss=0.5657322269430297\n",
      "Current iteration=1000, loss=0.5657165143991921\n",
      "treshold\n",
      "0.5657122369566256\n",
      "loop\n",
      "Current iteration=0, loss=0.6931471805599453\n",
      "Current iteration=100, loss=0.2629459775046699\n",
      "Current iteration=200, loss=0.2591394374496144\n",
      "Current iteration=300, loss=0.25755736406087787\n",
      "Current iteration=400, loss=0.2566258519643594\n",
      "Current iteration=500, loss=0.2560127494838899\n",
      "Current iteration=600, loss=0.2555914729842714\n",
      "Current iteration=700, loss=0.2552955949306527\n",
      "Current iteration=800, loss=0.2550848981003426\n",
      "Current iteration=900, loss=0.2549333865649775\n",
      "Current iteration=1000, loss=0.25482363396314683\n",
      "Current iteration=1100, loss=0.25474367687119337\n",
      "Current iteration=1200, loss=0.25468516122875073\n",
      "Current iteration=1300, loss=0.2546421786327092\n",
      "Current iteration=1400, loss=0.25461050915355615\n",
      "Current iteration=1500, loss=0.2545871153693658\n",
      "Current iteration=1600, loss=0.25456979731433643\n",
      "Current iteration=1700, loss=0.25455695340808965\n",
      "treshold\n",
      "0.25455338754684437\n",
      "loop\n",
      "Current iteration=0, loss=0.6931471805599453\n",
      "Current iteration=100, loss=0.5408964930012655\n",
      "Current iteration=200, loss=0.5370718841803951\n",
      "Current iteration=300, loss=0.5359830432833387\n",
      "Current iteration=400, loss=0.5355731499989838\n",
      "Current iteration=500, loss=0.5353948302699323\n",
      "Current iteration=600, loss=0.5353097595854696\n",
      "Current iteration=700, loss=0.5352666186106895\n",
      "Current iteration=800, loss=0.5352438512047161\n",
      "treshold\n",
      "0.5352331331371168\n"
     ]
    }
   ],
   "source": [
    "tX_list, ids_list, y_list = separate_dataset(tX, ids, y, True)\n",
    "tX_test_list, ids_test_list = separate_dataset(tX_test, ids_test) \n",
    "\n",
    "degree_vec = [1,1,1,1,1,1]\n",
    "lambda_vec = [1e-4, 0.0007278953843983146, 0.0007880462815669912, 0.0007880462815669912, 0.00045203536563602405, 0.00045203536563602405]\n",
    "gamma_vec = [5e-1, 0.085, 0.085, 0.085, 0.085, 0.085]\n",
    "\n",
    "weights_list = []\n",
    "loss_list = []\n",
    "mat_tX_test_list = []\n",
    "max_iter= 10000\n",
    "\n",
    "for i in range(6):\n",
    "    print(\"loop\")\n",
    "    mat_tX, mat_tX_test = build_poly_log(tX_list[i], degree_vec[0], True, tX_test_list[i])\n",
    "    initial_w = np.zeros((mat_tX.shape[1], 1))\n",
    "    l, w = reg_logistic_regression(y_list[i], mat_tX, initial_w, max_iter, lambda_vec[0], gamma_vec[0])\n",
    "    print(l)\n",
    "    weights_list.append(w)\n",
    "    loss_list.append(l)\n",
    "    mat_tX_test_list.append(mat_tX_test)"
   ]
  },
  {
   "cell_type": "code",
   "execution_count": null,
   "metadata": {},
   "outputs": [],
   "source": []
  },
  {
   "cell_type": "markdown",
   "metadata": {},
   "source": [
    "## Generate predictions and save ouput in csv format for submission:"
   ]
  },
  {
   "cell_type": "code",
   "execution_count": null,
   "metadata": {
    "collapsed": false,
    "jupyter": {
     "outputs_hidden": false
    }
   },
   "outputs": [],
   "source": [
    "# Data augmentation\n",
    "OUTPUT_PATH = 'result.csv' # TODO: fill in desired name of output file for submission\n",
    "mat_tX_test = build_poly(tX_test, 3)\n",
    "print(mat_tX_test.shape)\n",
    "y_pred = predict_labels(weights, mat_tX_test)\n",
    "create_csv_submission(ids_test, y_pred, OUTPUT_PATH)"
   ]
  },
  {
   "cell_type": "code",
   "execution_count": 41,
   "metadata": {},
   "outputs": [],
   "source": [
    "# Separated dataset\n",
    "OUTPUT_PATH = 'result.csv' # TODO: fill in desired name of output file for submission\n",
    "\n",
    "tX_test_list, ids_test_list = separate_dataset(tX_test, ids_test)\n",
    "y_pred_list = separated_eval(weights_list, tX_test_list)\n",
    "\n",
    "y_pred = np.concatenate((y_pred_list[0], y_pred_list[1], y_pred_list[2], y_pred_list[3]))\n",
    "ids_test_sub = np.concatenate((ids_test_list[0], ids_test_list[1], ids_test_list[2], ids_test_list[3]))\n",
    "\n",
    "create_csv_submission(ids_test_sub, y_pred, OUTPUT_PATH)"
   ]
  },
  {
   "cell_type": "code",
   "execution_count": 12,
   "metadata": {},
   "outputs": [
    {
     "name": "stdout",
     "output_type": "stream",
     "text": [
      "0\n",
      "1\n",
      "2\n",
      "3\n"
     ]
    }
   ],
   "source": [
    "# Data augmentation and separated dataset\n",
    "OUTPUT_PATH = 'result.csv' # TODO: fill in desired name of output file for submission\n",
    "\n",
    "tX_test_list, ids_test_list = separate_dataset(tX_test, ids_test)   #separate dateset\n",
    "\n",
    "mat_tX_test_list = []\n",
    "\n",
    "# for i in range(4):\n",
    "#     print(i)\n",
    "#     mat_tX_test = build_poly(tX_test_list[i], degree_vec[i])\n",
    "#     mat_tX_test_list.append(mat_tX_test)\n",
    "\n",
    "# mat_tX_test_list = build_poly_separated(tX_test_list, 3)            #data augmentation\n",
    "y_pred_list = separated_eval(weights_list, mat_tX_test_list)        #prediction\n",
    "\n",
    "y_pred = np.concatenate((y_pred_list[0], y_pred_list[1], y_pred_list[2], y_pred_list[3]))\n",
    "ids_test_sub = np.concatenate((ids_test_list[0], ids_test_list[1], ids_test_list[2], ids_test_list[3]))\n",
    "\n",
    "create_csv_submission(ids_test_sub, y_pred, OUTPUT_PATH)"
   ]
  },
  {
   "cell_type": "markdown",
   "metadata": {},
   "source": [
    "## Prediction"
   ]
  },
  {
   "cell_type": "code",
   "execution_count": 16,
   "metadata": {},
   "outputs": [],
   "source": [
    "# Eval\n",
    "logistic = True\n",
    "y_pred_list = separated_eval(weights_list, mat_tX_test_list, logistic) \n",
    "\n",
    "y_pred = np.concatenate((y_pred_list[0], y_pred_list[1], y_pred_list[2], y_pred_list[3], y_pred_list[4], y_pred_list[5]))\n",
    "ids_test_sub = np.concatenate((ids_test_list[0], ids_test_list[1], ids_test_list[2], ids_test_list[3], ids_test_list[4], ids_test_list[5]))\n",
    "\n",
    "OUTPUT_PATH = 'result.csv'\n",
    "create_csv_submission(ids_test_sub, y_pred, OUTPUT_PATH)"
   ]
  },
  {
   "cell_type": "code",
   "execution_count": null,
   "metadata": {},
   "outputs": [],
   "source": []
  },
  {
   "cell_type": "code",
   "execution_count": null,
   "metadata": {},
   "outputs": [],
   "source": []
  }
 ],
 "metadata": {
  "anaconda-cloud": {},
  "interpreter": {
   "hash": "c6e4e9f98eb68ad3b7c296f83d20e6de614cb42e90992a65aa266555a3137d0d"
  },
  "kernelspec": {
   "display_name": "Python 3.9.7 64-bit ('base': conda)",
   "name": "python3"
  },
  "language_info": {
   "codemirror_mode": {
    "name": "ipython",
    "version": 3
   },
   "file_extension": ".py",
   "mimetype": "text/x-python",
   "name": "python",
   "nbconvert_exporter": "python",
   "pygments_lexer": "ipython3",
   "version": "3.9.7"
  }
 },
 "nbformat": 4,
 "nbformat_minor": 4
}

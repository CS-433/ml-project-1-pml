{
 "cells": [
  {
   "cell_type": "code",
   "execution_count": 1,
   "metadata": {
    "tags": []
   },
   "outputs": [],
   "source": [
    "# Useful starting lines\n",
    "%matplotlib inline\n",
    "import numpy as np\n",
    "import matplotlib.pyplot as plt\n",
    "%load_ext autoreload\n",
    "%autoreload 2"
   ]
  },
  {
   "cell_type": "markdown",
   "metadata": {},
   "source": [
    "## Load the training data into feature matrix, class labels, and event ids, and separate the dataset:"
   ]
  },
  {
   "cell_type": "code",
   "execution_count": 2,
   "metadata": {
    "collapsed": false,
    "jupyter": {
     "outputs_hidden": false
    }
   },
   "outputs": [],
   "source": [
    "from proj1_helpers import *\n",
    "DATA_TRAIN_PATH = '../data/train.csv' # TODO: download train data and supply path here \n",
    "y, tX, ids = load_csv_data(DATA_TRAIN_PATH)"
   ]
  },
  {
   "cell_type": "code",
   "execution_count": 3,
   "metadata": {},
   "outputs": [],
   "source": [
    "DATA_TEST_PATH = '../data/test.csv' # TODO: download train data and supply path here \n",
    "_, tX_test, ids_test = load_csv_data(DATA_TEST_PATH)"
   ]
  },
  {
   "cell_type": "code",
   "execution_count": 4,
   "metadata": {},
   "outputs": [],
   "source": [
    "# We Separate the dataset\n",
    "from implementations import *\n",
    "\n",
    "tX_list, ids_list, y_list = separate_dataset(tX, ids, y, True)\n",
    "tX_test_list, ids_test_list = separate_dataset(tX_test, ids_test) "
   ]
  },
  {
   "cell_type": "markdown",
   "metadata": {},
   "source": [
    "## Grid Search"
   ]
  },
  {
   "cell_type": "code",
   "execution_count": 39,
   "metadata": {},
   "outputs": [
    {
     "name": "stdout",
     "output_type": "stream",
     "text": [
      "Dataset part 0:\n",
      "     Best degree: 1\n",
      "     Best lambda: 1e-08\n",
      "     Loss: 0.4271692619391528\n",
      "Dataset part 1:\n",
      "     Best degree: 1\n",
      "     Best lambda: 1e-08\n",
      "     Loss: 0.7909832423488046\n",
      "Dataset part 2:\n",
      "     Best degree: 3\n",
      "     Best lambda: 0.0004641588833612782\n",
      "     Loss: 0.5306821163024368\n",
      "Dataset part 3:\n",
      "     Best degree: 5\n",
      "     Best lambda: 0.0027825594022071257\n",
      "     Loss: 0.8233866880971475\n",
      "Dataset part 4:\n",
      "     Best degree: 3\n",
      "     Best lambda: 0.0004641588833612782\n",
      "     Loss: 0.5510419519754712\n",
      "Dataset part 5:\n",
      "     Best degree: 4\n",
      "     Best lambda: 0.016681005372000592\n",
      "     Loss: 0.789411151522702\n"
     ]
    }
   ],
   "source": [
    "function = ridge_regression\n",
    "degree_vec = []\n",
    "lambda_vec = []\n",
    "for i in range(6):\n",
    "    print('Dataset part {l}:'.format(l = i))\n",
    "    rmse_te, BestDeg, BestLambda = grid_search(y_list[i], tX_list[i], function, True, degrees= range(1, 8))\n",
    "    degree_vec.append(BestDeg)\n",
    "    lambda_vec.append(BestLambda)\n",
    "    print('     Best degree: {d}'.format(d = BestDeg))\n",
    "    print('     Best lambda: {m}'.format(m = BestLambda))\n",
    "    print('     Loss: {lo}'.format(lo = rmse_te))"
   ]
  },
  {
   "cell_type": "code",
   "execution_count": 40,
   "metadata": {},
   "outputs": [],
   "source": [
    "weights_list = []\n",
    "loss_list = []\n",
    "mat_tX_test_list = []\n",
    "\n",
    "for i in range(6):\n",
    "    mat_tX, mat_tX_test = build_poly_log(tX_list[i], degree_vec[i], True, tX_test_list[i])\n",
    "    w, l = ridge_regression(y_list[i], mat_tX, lambda_vec[i])\n",
    "    weights_list.append(w)\n",
    "    loss_list.append(l)\n",
    "    mat_tX_test_list.append(mat_tX_test)\n",
    "    "
   ]
  },
  {
   "cell_type": "markdown",
   "metadata": {},
   "source": [
    "## Gradient Descent"
   ]
  },
  {
   "cell_type": "code",
   "execution_count": null,
   "metadata": {},
   "outputs": [],
   "source": [
    "# Linear regression using gradient descent\n",
    "\n",
    "initial_w = np.zeros(tX.shape[1])\n",
    "max_iters = 50\n",
    "gamma = 3e-7\n",
    "\n",
    "weights, loss = least_squares_GD(y, tX, initial_w, max_iters, gamma)"
   ]
  },
  {
   "cell_type": "markdown",
   "metadata": {},
   "source": [
    "## Least squares"
   ]
  },
  {
   "cell_type": "code",
   "execution_count": 76,
   "metadata": {},
   "outputs": [
    {
     "data": {
      "text/plain": [
       "0.3396868094770349"
      ]
     },
     "execution_count": 76,
     "metadata": {},
     "output_type": "execute_result"
    }
   ],
   "source": [
    "# Least squares regression using normal equation\n",
    "weights, loss = least_squares(y, tX)\n",
    "loss"
   ]
  },
  {
   "cell_type": "markdown",
   "metadata": {},
   "source": [
    "## Ridge regression"
   ]
  },
  {
   "cell_type": "code",
   "execution_count": 9,
   "metadata": {},
   "outputs": [
    {
     "data": {
      "text/plain": [
       "(30,)"
      ]
     },
     "execution_count": 9,
     "metadata": {},
     "output_type": "execute_result"
    }
   ],
   "source": [
    "# Ridge regression using normal equations\n",
    "lambda_ = 1e-3\n",
    "weights, loss = ridge_regression(y, tX, lambda_)\n",
    "loss"
   ]
  },
  {
   "cell_type": "code",
   "execution_count": 59,
   "metadata": {},
   "outputs": [
    {
     "data": {
      "text/plain": [
       "0.2967432202164457"
      ]
     },
     "execution_count": 59,
     "metadata": {},
     "output_type": "execute_result"
    }
   ],
   "source": [
    "# Ridge regression with data augmentation\n",
    "lambda_ = 1e-3\n",
    "mat_tX = build_poly(tX, 5)\n",
    "weights, loss = ridge_regression(y, mat_tX, lambda_)\n",
    "\n",
    "loss"
   ]
  },
  {
   "cell_type": "code",
   "execution_count": 35,
   "metadata": {},
   "outputs": [],
   "source": [
    "# Ridge regression with separated data\n",
    "lambda_ = 1e-3\n",
    "weights_list, loss_list = separated_train(tX_list, y_list, ridge_regression, lambda_)"
   ]
  },
  {
   "cell_type": "code",
   "execution_count": 76,
   "metadata": {},
   "outputs": [],
   "source": [
    "# Ridge regression on separated datset with data augmentation\n",
    "lambda_ = 1e-3\n",
    "mat_tX_list = build_poly_separated(tX_list, 3)\n",
    "# weights, loss = ridge_regression(y_list[0], mat_tX_list[0], lambda_)\n",
    "\n",
    "weights_list, loss_list = separated_train(mat_tX_list, y_list, ridge_regression, lambda_)"
   ]
  },
  {
   "cell_type": "markdown",
   "metadata": {},
   "source": [
    "## Logistic regression"
   ]
  },
  {
   "cell_type": "code",
   "execution_count": 5,
   "metadata": {},
   "outputs": [
    {
     "name": "stdout",
     "output_type": "stream",
     "text": [
      "0.6743518202894218\n",
      "0.6760595782127253\n",
      "Done Lambda\n",
      "0.27460595102616286\n",
      "55.52095918305916\n",
      "Done Lambda\n",
      "Done Gamma\n",
      "Done Deg\n",
      "(array([0]), array([1]), array([0]))\n",
      "0.27460595102616286\n",
      "0.6904820795554201\n",
      "0.6906967527802129\n",
      "Done Lambda\n",
      "0.8350689993549294\n",
      "47.178291074990256\n",
      "Done Lambda\n",
      "Done Gamma\n",
      "Done Deg\n",
      "(array([0]), array([0]), array([0]))\n",
      "0.6904820795554201\n",
      "0.6771572514460912\n",
      "0.6786088829898362\n",
      "Done Lambda\n",
      "0.367663662672965\n",
      "65.29571120023466\n",
      "Done Lambda\n",
      "Done Gamma\n",
      "Done Deg\n",
      "(array([0]), array([1]), array([0]))\n",
      "0.367663662672965\n",
      "0.6921816360332991\n",
      "0.6922447204470084\n",
      "Done Lambda\n",
      "0.7839173061584752\n",
      "65.10496616960559\n",
      "Done Lambda\n",
      "Done Gamma\n",
      "Done Deg\n",
      "(array([0]), array([0]), array([0]))\n",
      "0.6921816360332991\n",
      "0.6800567321933159\n",
      "0.6812274734114628\n",
      "Done Lambda\n",
      "0.5220848137763971\n",
      "79.161281894291\n",
      "Done Lambda\n",
      "Done Gamma\n",
      "Done Deg\n",
      "(array([0]), array([1]), array([0]))\n",
      "0.5220848137763971\n",
      "0.6935768369329353\n",
      "0.6934934912963826\n",
      "Done Lambda\n",
      "0.8900831232574502\n",
      "73.9178254988596\n",
      "Done Lambda\n",
      "Done Gamma\n",
      "Done Deg\n",
      "(array([0]), array([0]), array([1]))\n",
      "0.6934934912963826\n"
     ]
    }
   ],
   "source": [
    "degrees = range(1, 2)\n",
    "lambdas = np.logspace(-3, 0, 2)\n",
    "gammas = np.logspace(-3, 0, 2)\n",
    "\n",
    "degree_vec = []\n",
    "lambda_vec = []\n",
    "gamma_vec = []\n",
    "\n",
    "for i in range(6):\n",
    "    rmse_te, BestDeg, BestLambda, BestGamma = grid_search_for_log_reg(y_list[i], tX_list[i], True, 4, degrees, lambdas, gammas)\n",
    "    degree_vec.append(BestDeg)\n",
    "    lambda_vec.append(BestLambda)\n",
    "    gamma_vec.append(BestGamma)\n",
    "    print(rmse_te)\n",
    "\n"
   ]
  },
  {
   "cell_type": "code",
   "execution_count": 49,
   "metadata": {},
   "outputs": [
    {
     "name": "stdout",
     "output_type": "stream",
     "text": [
      "loop\n",
      "0.17199737533929327\n",
      "loop\n",
      "0.4539822967691729\n",
      "loop\n",
      "0.24545308205379776\n",
      "loop\n",
      "0.5672153191167804\n",
      "loop\n",
      "0.2572019773477076\n",
      "loop\n",
      "0.5363460013415859\n"
     ]
    }
   ],
   "source": [
    "#Log Reg Pen\n",
    "\n",
    "\n",
    "degree_vec = [1]\n",
    "lambda_vec = [1e-04]\n",
    "gamma_vec = [5e-1]\n",
    "\n",
    "weights_list = []\n",
    "loss_list = []\n",
    "mat_tX_test_list = []\n",
    "max_iter= 10000\n",
    "\n",
    "for i in range(6):\n",
    "    print(\"loop\")\n",
    "    mat_tX, mat_tX_test = build_poly_log(tX_list[i], degree_vec[0], True, tX_test_list[i])\n",
    "    initial_w = np.zeros((mat_tX.shape[1], 1))\n",
    "    l, w = logistic_regression_penalized_gradient_descent(y_list[i], mat_tX, initial_w, max_iter, gamma_vec[0], lambda_vec[0])\n",
    "    print(l)\n",
    "    weights_list.append(w)\n",
    "    loss_list.append(l)\n",
    "    mat_tX_test_list.append(mat_tX_test)"
   ]
  },
  {
   "cell_type": "code",
   "execution_count": 8,
   "metadata": {},
   "outputs": [
    {
     "name": "stdout",
     "output_type": "stream",
     "text": [
      "0.1\n"
     ]
    }
   ],
   "source": [
    "weights_list = []\n",
    "loss_list = []\n",
    "mat_tX_test_list = []\n",
    "max_iter = 5000\n",
    "\n",
    "for i in range(3):\n",
    "    print(\"loop\")\n",
    "    mat_tX, mat_tX_test = build_poly_log(tX_list[i], degree_vec[i], True, tX_test_list[i])\n",
    "    initial_w = np.zeros((mat_tX.shape[1], 1))\n",
    "    l, w = logistic_regression_penalized_gradient_descent(y_list[i], mat_tX, initial_w, max_iter, gamma_vec[i], lambda_vec[i])\n",
    "    print(l)\n",
    "    weights_list.append(w)\n",
    "    loss_list.append(l)\n",
    "    mat_tX_test_list.append(mat_tX_test)"
   ]
  },
  {
   "cell_type": "markdown",
   "metadata": {},
   "source": [
    "## Generate predictions and save ouput in csv format for submission:"
   ]
  },
  {
   "cell_type": "code",
   "execution_count": null,
   "metadata": {
    "collapsed": false,
    "jupyter": {
     "outputs_hidden": false
    }
   },
   "outputs": [],
   "source": [
    "# Data augmentation\n",
    "OUTPUT_PATH = 'result.csv' # TODO: fill in desired name of output file for submission\n",
    "mat_tX_test = build_poly(tX_test, 3)\n",
    "print(mat_tX_test.shape)\n",
    "y_pred = predict_labels(weights, mat_tX_test)\n",
    "create_csv_submission(ids_test, y_pred, OUTPUT_PATH)"
   ]
  },
  {
   "cell_type": "code",
   "execution_count": 41,
   "metadata": {},
   "outputs": [],
   "source": [
    "# Separated dataset\n",
    "OUTPUT_PATH = 'result.csv' # TODO: fill in desired name of output file for submission\n",
    "\n",
    "tX_test_list, ids_test_list = separate_dataset(tX_test, ids_test)\n",
    "y_pred_list = separated_eval(weights_list, tX_test_list)\n",
    "\n",
    "y_pred = np.concatenate((y_pred_list[0], y_pred_list[1], y_pred_list[2], y_pred_list[3]))\n",
    "ids_test_sub = np.concatenate((ids_test_list[0], ids_test_list[1], ids_test_list[2], ids_test_list[3]))\n",
    "\n",
    "create_csv_submission(ids_test_sub, y_pred, OUTPUT_PATH)"
   ]
  },
  {
   "cell_type": "code",
   "execution_count": 12,
   "metadata": {},
   "outputs": [
    {
     "name": "stdout",
     "output_type": "stream",
     "text": [
      "0\n",
      "1\n",
      "2\n",
      "3\n"
     ]
    }
   ],
   "source": [
    "# Data augmentation and separated dataset\n",
    "OUTPUT_PATH = 'result.csv' # TODO: fill in desired name of output file for submission\n",
    "\n",
    "tX_test_list, ids_test_list = separate_dataset(tX_test, ids_test)   #separate dateset\n",
    "\n",
    "mat_tX_test_list = []\n",
    "\n",
    "# for i in range(4):\n",
    "#     print(i)\n",
    "#     mat_tX_test = build_poly(tX_test_list[i], degree_vec[i])\n",
    "#     mat_tX_test_list.append(mat_tX_test)\n",
    "\n",
    "# mat_tX_test_list = build_poly_separated(tX_test_list, 3)            #data augmentation\n",
    "y_pred_list = separated_eval(weights_list, mat_tX_test_list)        #prediction\n",
    "\n",
    "y_pred = np.concatenate((y_pred_list[0], y_pred_list[1], y_pred_list[2], y_pred_list[3]))\n",
    "ids_test_sub = np.concatenate((ids_test_list[0], ids_test_list[1], ids_test_list[2], ids_test_list[3]))\n",
    "\n",
    "create_csv_submission(ids_test_sub, y_pred, OUTPUT_PATH)"
   ]
  },
  {
   "cell_type": "markdown",
   "metadata": {},
   "source": [
    "## Prediction"
   ]
  },
  {
   "cell_type": "code",
   "execution_count": 50,
   "metadata": {},
   "outputs": [],
   "source": [
    "# Eval\n",
    "\n",
    "y_pred_list = separated_eval(weights_list, mat_tX_test_list, True) \n",
    "\n",
    "y_pred = np.concatenate((y_pred_list[0], y_pred_list[1], y_pred_list[2], y_pred_list[3], y_pred_list[4], y_pred_list[5]))\n",
    "ids_test_sub = np.concatenate((ids_test_list[0], ids_test_list[1], ids_test_list[2], ids_test_list[3], ids_test_list[4], ids_test_list[5]))\n",
    "\n",
    "OUTPUT_PATH = 'result.csv'\n",
    "create_csv_submission(ids_test_sub, y_pred, OUTPUT_PATH)"
   ]
  },
  {
   "cell_type": "code",
   "execution_count": null,
   "metadata": {},
   "outputs": [],
   "source": []
  }
 ],
 "metadata": {
  "anaconda-cloud": {},
  "interpreter": {
   "hash": "c6e4e9f98eb68ad3b7c296f83d20e6de614cb42e90992a65aa266555a3137d0d"
  },
  "kernelspec": {
   "display_name": "Python 3.9.7 64-bit ('base': conda)",
   "name": "python3"
  },
  "language_info": {
   "codemirror_mode": {
    "name": "ipython",
    "version": 3
   },
   "file_extension": ".py",
   "mimetype": "text/x-python",
   "name": "python",
   "nbconvert_exporter": "python",
   "pygments_lexer": "ipython3",
   "version": "3.9.7"
  }
 },
 "nbformat": 4,
 "nbformat_minor": 4
}

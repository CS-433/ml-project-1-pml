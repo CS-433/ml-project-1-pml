{
 "cells": [
  {
   "cell_type": "code",
   "execution_count": 110,
   "metadata": {
    "tags": []
   },
   "outputs": [
    {
     "name": "stdout",
     "output_type": "stream",
     "text": [
      "The autoreload extension is already loaded. To reload it, use:\n",
      "  %reload_ext autoreload\n"
     ]
    }
   ],
   "source": [
    "# Useful starting lines\n",
    "%matplotlib inline\n",
    "import numpy as np\n",
    "import matplotlib.pyplot as plt\n",
    "%load_ext autoreload\n",
    "%autoreload 2\n",
    "import seaborn as sns"
   ]
  },
  {
   "cell_type": "markdown",
   "metadata": {},
   "source": [
    "## Load the training data into feature matrix, class labels, and event ids, and separate the dataset:"
   ]
  },
  {
   "cell_type": "code",
   "execution_count": 111,
   "metadata": {},
   "outputs": [],
   "source": [
    "from implementations import *"
   ]
  },
  {
   "cell_type": "code",
   "execution_count": 112,
   "metadata": {
    "collapsed": false,
    "jupyter": {
     "outputs_hidden": false
    }
   },
   "outputs": [],
   "source": [
    "from proj1_helpers import *\n",
    "DATA_TRAIN_PATH = '../data/train.csv' # TODO: download train data and supply path here \n",
    "y, tX, ids = load_csv_data(DATA_TRAIN_PATH)\n"
   ]
  },
  {
   "cell_type": "code",
   "execution_count": 113,
   "metadata": {},
   "outputs": [],
   "source": [
    "DATA_TEST_PATH = '../data/test.csv' # TODO: download train data and supply path here \n",
    "_, tX_test, ids_test = load_csv_data(DATA_TEST_PATH)"
   ]
  },
  {
   "cell_type": "code",
   "execution_count": 122,
   "metadata": {},
   "outputs": [],
   "source": [
    "logistic = True\n",
    "tX_list, ids_list, y_list = separate_dataset(tX, ids, y, logistic)\n",
    "tX_test_list, ids_test_list = separate_dataset(tX_test, ids_test) "
   ]
  },
  {
   "cell_type": "code",
   "execution_count": null,
   "metadata": {},
   "outputs": [],
   "source": [
    "k = 5\n",
    "for i in range(tX_list[k].shape[1]):\n",
    "    plt.figure()\n",
    "    sns.histplot(np.where(y_list[k] == 0, tX_list[k][:,i], np.nan), color ='r', alpha = 0.5, stat = 'density', bins = 40)\n",
    "    sns.histplot(np.where(y_list[k] == 1, tX_list[k][:,i], np.nan), color ='b', alpha = 0.5, stat = 'density',  bins = 40)\n",
    "    plt.title('feature {k}'.format(k =i))\n",
    "    #plt.xlim([0, 250])\n",
    "    plt.show()"
   ]
  },
  {
   "cell_type": "code",
   "execution_count": 123,
   "metadata": {},
   "outputs": [],
   "source": [
    "tX_list[0]=np.delete(tX_list[0], [2,4,7,10,13,15], axis=1)\n",
    "tX_list[1]=np.delete(tX_list[1], [3,5,11,14,16,17], axis=1)\n",
    "tX_list[2]=np.delete(tX_list[2], [7,9,10,12,13,15,16,17,19], axis=1)\n",
    "tX_list[3]=np.delete(tX_list[3], [3,5,6,11,12,14,15,16,17,18,20,21], axis=1)\n",
    "tX_list[4]=np.delete(tX_list[4], [10,15,16,17,18,19,23,24,26], axis=1)\n",
    "tX_list[5]=np.delete(tX_list[5], [3,8,9,10,15,16,18,19,20,21,22,24,25,27,28], axis=1)"
   ]
  },
  {
   "cell_type": "code",
   "execution_count": 124,
   "metadata": {},
   "outputs": [],
   "source": [
    "tX_test_list[0]=np.delete(tX_test_list[0], [2,4,7,10,13,15], axis=1)\n",
    "tX_test_list[1]=np.delete(tX_test_list[1], [3,5,11,14,16,17], axis=1)\n",
    "tX_test_list[2]=np.delete(tX_test_list[2], [7,9,10,12,13,15,16,17,19], axis=1)\n",
    "tX_test_list[3]=np.delete(tX_test_list[3], [3,5,6,11,12,14,15,16,17,18,20,21], axis=1)\n",
    "tX_test_list[4]=np.delete(tX_test_list[4], [10,15,16,17,18,19,23,24,26], axis=1)\n",
    "tX_test_list[5]=np.delete(tX_test_list[5], [3,8,9,10,15,16,18,19,20,21,22,24,25,27,28], axis=1)"
   ]
  },
  {
   "cell_type": "code",
   "execution_count": 128,
   "metadata": {},
   "outputs": [
    {
     "name": "stdout",
     "output_type": "stream",
     "text": [
      "[86.24]\n",
      "[143.905]\n",
      "[162.172]\n",
      "[160.937]\n",
      "[110.686]\n",
      "[138.47]\n"
     ]
    }
   ],
   "source": [
    "for i in range(6):\n",
    "    print(tX_list[i][0,:1])"
   ]
  },
  {
   "cell_type": "code",
   "execution_count": null,
   "metadata": {},
   "outputs": [],
   "source": [
    "k = 5\n",
    "for i in range(tX_list[k].shape[1]):\n",
    "    plt.figure()\n",
    "    sns.histplot(tX_list[k][:,i], color ='r', alpha = 0.5, stat = 'density', bins = 70)\n",
    "    plt.title('feature {k}'.format(k =i))\n",
    "    #plt.xlim([0, 250])\n",
    "    plt.show()"
   ]
  },
  {
   "cell_type": "code",
   "execution_count": 93,
   "metadata": {},
   "outputs": [
    {
     "name": "stdout",
     "output_type": "stream",
     "text": [
      "dataset 5, feature 0, skew = 4.526779255502234\n",
      "dataset 5, feature 1, skew = 1.5854759538348735\n",
      "dataset 5, feature 2, skew = 4.1534419904406725\n",
      "dataset 5, feature 3, skew = 0.5526495637370924\n",
      "dataset 5, feature 4, skew = 2.422586360535754\n",
      "dataset 5, feature 5, skew = -0.330918089632574\n",
      "dataset 5, feature 6, skew = 0.3625227514086151\n",
      "dataset 5, feature 7, skew = -1.1804819418198131\n",
      "dataset 5, feature 8, skew = 0.050108182105138704\n",
      "dataset 5, feature 9, skew = 3.1331648149755567\n",
      "dataset 5, feature 10, skew = 0.0073505210291059594\n",
      "dataset 5, feature 11, skew = 0.007643980406921144\n",
      "dataset 5, feature 12, skew = -0.007490806451555571\n",
      "dataset 5, feature 13, skew = -0.00366221267740773\n"
     ]
    }
   ],
   "source": [
    "from scipy.stats import skew\n",
    "i=5\n",
    "for k in range(tX_list[i].shape[1]):\n",
    "    print('dataset {d}, feature {f}, skew = {s}'.format(d = i, f = k, s = skew(tX_list[i][:,k])))"
   ]
  },
  {
   "cell_type": "code",
   "execution_count": 117,
   "metadata": {},
   "outputs": [],
   "source": [
    "tX_list[0] = np.append(tX_list[0], np.log(tX_list[0][:,[0,1,3,4,5,7,9,10]]), axis = 1)\n",
    "tX_list[1] = np.append(tX_list[1], np.log(tX_list[1][:,[0,2,4,7,9,11]]), axis = 1)\n",
    "tX_list[2] = np.append(tX_list[2], np.log(tX_list[2][:,[0,1,4,5,6,7,8,9,11]]), axis = 1)\n",
    "tX_list[3] = np.append(tX_list[3], np.log(tX_list[3][:,[0,2,4,6]]), axis = 1)\n",
    "tX_list[4] = np.append(tX_list[4], np.log(tX_list[4][:,[0,1,2,4,7,8,9,11,14,15,18]]), axis = 1)\n",
    "tX_list[5] = np.append(tX_list[5], np.log(tX_list[5][:,[0,2,4,9]]), axis = 1)"
   ]
  },
  {
   "cell_type": "code",
   "execution_count": 118,
   "metadata": {},
   "outputs": [],
   "source": [
    "tX_test_list[0] = np.append(tX_test_list[0], np.log(tX_test_list[0][:,[0,1,3,4,5,7,9,10]]), axis = 1)\n",
    "tX_test_list[1] = np.append(tX_test_list[1], np.log(tX_test_list[1][:,[0,2,4,7,9,11]]), axis = 1)\n",
    "tX_test_list[2] = np.append(tX_test_list[2], np.log(tX_test_list[2][:,[0,1,4,5,6,7,8,9,11]]), axis = 1)\n",
    "tX_test_list[3] = np.append(tX_test_list[3], np.log(tX_test_list[3][:,[0,2,4,6]]), axis = 1)\n",
    "tX_test_list[4] = np.append(tX_test_list[4], np.log(tX_test_list[4][:,[0,1,2,4,7,8,9,11,14,15,18]]), axis = 1)\n",
    "tX_test_list[5] = np.append(tX_test_list[5], np.log(tX_test_list[5][:,[0,2,4,9]]), axis = 1)"
   ]
  },
  {
   "cell_type": "code",
   "execution_count": 120,
   "metadata": {},
   "outputs": [],
   "source": [
    "for i in range(6):\n",
    "    tX_list[i], mean, std = standardize(tX_list[i])\n",
    "    tX_test_list[i] = standardize(tX_test_list[i], mean, std)"
   ]
  },
  {
   "cell_type": "code",
   "execution_count": null,
   "metadata": {},
   "outputs": [],
   "source": [
    "k = 0\n",
    "for i in range(tX_list[k].shape[1]):\n",
    "    plt.figure()\n",
    "    sns.histplot(tX_list[k][:,i], color ='r', alpha = 0.5, stat = 'density', bins = 70)\n",
    "    plt.title('feature {k}'.format(k =i))\n",
    "    #plt.xlim([0, 250])\n",
    "    plt.show()"
   ]
  },
  {
   "cell_type": "code",
   "execution_count": null,
   "metadata": {},
   "outputs": [],
   "source": []
  }
 ],
 "metadata": {
  "anaconda-cloud": {},
  "interpreter": {
   "hash": "c6e4e9f98eb68ad3b7c296f83d20e6de614cb42e90992a65aa266555a3137d0d"
  },
  "kernelspec": {
   "display_name": "Python 3.9.7 64-bit ('base': conda)",
   "name": "python3"
  },
  "language_info": {
   "codemirror_mode": {
    "name": "ipython",
    "version": 3
   },
   "file_extension": ".py",
   "mimetype": "text/x-python",
   "name": "python",
   "nbconvert_exporter": "python",
   "pygments_lexer": "ipython3",
   "version": "3.9.7"
  }
 },
 "nbformat": 4,
 "nbformat_minor": 4
}
